{
 "cells": [
  {
   "cell_type": "markdown",
   "metadata": {},
   "source": [
    "# Import required packages"
   ]
  },
  {
   "cell_type": "code",
   "execution_count": 1,
   "metadata": {},
   "outputs": [],
   "source": [
    "# Optimization Packages\n",
    "using JuMP\n",
    "using SCS\n",
    "using GLPK"
   ]
  },
  {
   "cell_type": "code",
   "execution_count": 2,
   "metadata": {},
   "outputs": [],
   "source": [
    "# Linear Algebra packages\n",
    "using LinearAlgebra\n",
    "using SparseArrays"
   ]
  },
  {
   "cell_type": "markdown",
   "metadata": {},
   "source": [
    "# Part 2\n",
    "Julia is numerical computation language used for many scientific applications. Here we will look how to use this language to solve optimization problems. "
   ]
  },
  {
   "cell_type": "markdown",
   "metadata": {},
   "source": [
    "## Part 2.1 Creating a Model\n",
    "Models are created with the `Model()` function. The `with_optimizer` syntax is used to specify the optimizer to be used:"
   ]
  },
  {
   "cell_type": "code",
   "execution_count": null,
   "metadata": {},
   "outputs": [],
   "source": [
    "? Model"
   ]
  },
  {
   "cell_type": "code",
   "execution_count": 4,
   "metadata": {},
   "outputs": [
    {
     "data": {
      "text/latex": [
       "$$ \\begin{alignat*}{1}\\text{feasibility}\\\\\n",
       "\\text{Subject to} \\quad\\end{alignat*}\n",
       " $$"
      ],
      "text/plain": [
       "A JuMP Model\n",
       "Feasibility problem with:\n",
       "Variables: 0\n",
       "Model mode: AUTOMATIC\n",
       "CachingOptimizer state: EMPTY_OPTIMIZER\n",
       "Solver name: GLPK"
      ]
     },
     "execution_count": 4,
     "metadata": {},
     "output_type": "execute_result"
    }
   ],
   "source": [
    "model = Model(with_optimizer(GLPK.Optimizer))"
   ]
  },
  {
   "cell_type": "markdown",
   "metadata": {},
   "source": [
    "## Part 2.2 Declaring Variables\n",
    "The following commands will create two variables, `x` and `y`, with both lower and upper bounds. Note the first argument is our `model` model. These variables (`x` and `y`) are associated with this model and cannot be used in another model.\n",
    "\n",
    "Also go to the link for nice description on how to create JuMP variables [link](http://www.juliaopt.org/JuMP.jl/v0.19.0/variables/#Variables-1)."
   ]
  },
  {
   "cell_type": "code",
   "execution_count": 11,
   "metadata": {
    "scrolled": false
   },
   "outputs": [
    {
     "data": {
      "text/latex": [
       "\\begin{verbatim}\n",
       "@variable(model, kw_args...)\n",
       "\\end{verbatim}\n",
       "Add an \\emph{anonymous} variable to the model \\texttt{model} described by the keyword arguments \\texttt{kw\\_args} and returns the variable.\n",
       "\n",
       "\\begin{verbatim}\n",
       "@variable(model, expr, args..., kw_args...)\n",
       "\\end{verbatim}\n",
       "Add a variable to the model \\texttt{model} described by the expression \\texttt{expr}, the positional arguments \\texttt{args} and the keyword arguments \\texttt{kw\\_args}. The expression \\texttt{expr} can either be (note that in the following the symbol \\texttt{<=} can be used instead of \\texttt{≤} and the symbol \\texttt{>=}can be used instead of \\texttt{≥})\n",
       "\n",
       "\\begin{itemize}\n",
       "\\item of the form \\texttt{varexpr} creating variables described by \\texttt{varexpr};\n",
       "\n",
       "\n",
       "\\item of the form \\texttt{varexpr ≤ ub} (resp. \\texttt{varexpr ≥ lb}) creating variables described by \\texttt{varexpr} with upper bounds given by \\texttt{ub} (resp. lower bounds given by \\texttt{lb});\n",
       "\n",
       "\n",
       "\\item of the form \\texttt{varexpr == value} creating variables described by \\texttt{varexpr} with fixed values given by \\texttt{value}; or\n",
       "\n",
       "\n",
       "\\item of the form \\texttt{lb ≤ varexpr ≤ ub} or \\texttt{ub ≥ varexpr ≥ lb} creating variables described by \\texttt{varexpr} with lower bounds given by \\texttt{lb} and upper bounds given by \\texttt{ub}.\n",
       "\n",
       "\\end{itemize}\n",
       "The expression \\texttt{varexpr} can either be\n",
       "\n",
       "\\begin{itemize}\n",
       "\\item of the form \\texttt{varname} creating a scalar real variable of name \\texttt{varname};\n",
       "\n",
       "\n",
       "\\item of the form \\texttt{varname[...]} or \\texttt{[...]} creating a container of variables (see \\href{@ref}{Containers in macros}).\n",
       "\n",
       "\\end{itemize}\n",
       "The recognized positional arguments in \\texttt{args} are the following:\n",
       "\n",
       "\\begin{itemize}\n",
       "\\item \\texttt{Bin}: Sets the variable to be binary, i.e. either 0 or 1.\n",
       "\n",
       "\n",
       "\\item \\texttt{Int}: Sets the variable to be integer, i.e. one of ..., -2, -1, 0, 1, 2, ...\n",
       "\n",
       "\n",
       "\\item \\texttt{Symmetric}: Only available when creating a square matrix of variables, i.e. when \\texttt{varexpr} is of the form \\texttt{varname[1:n,1:n]} or \\texttt{varname[i=1:n,j=1:n]}. It creates a symmetric matrix of variable, that is, it only creates a new variable for \\texttt{varname[i,j]} with \\texttt{i ≤ j} and sets \\texttt{varname[j,i]} to the same variable as \\texttt{varname[i,j]}.\n",
       "\n",
       "\n",
       "\\item \\texttt{PSD}: The square matrix of variable is both \\texttt{Symmetric} and constrained to be positive semidefinite.\n",
       "\n",
       "\\end{itemize}\n",
       "The recognized keyword arguments in \\texttt{kw\\_args} are the following:\n",
       "\n",
       "\\begin{itemize}\n",
       "\\item \\texttt{base\\_name}: Sets the name prefix used to generate variable names. It corresponds to the variable name for scalar variable, otherwise, the variable names are set to \\texttt{base\\_name[...]} for each index \\texttt{...} of the axes \\texttt{axes}.\n",
       "\n",
       "\n",
       "\\item \\texttt{lower\\_bound}: Sets the value of the variable lower bound.\n",
       "\n",
       "\n",
       "\\item \\texttt{upper\\_bound}: Sets the value of the variable upper bound.\n",
       "\n",
       "\n",
       "\\item \\texttt{start}: Sets the variable starting value used as initial guess in optimization.\n",
       "\n",
       "\n",
       "\\item \\texttt{binary}: Sets whether the variable is binary or not.\n",
       "\n",
       "\n",
       "\\item \\texttt{integer}: Sets whether the variable is integer or not.\n",
       "\n",
       "\n",
       "\\item \\texttt{variable\\_type}: See the \"Note for extending the variable macro\" section below.\n",
       "\n",
       "\n",
       "\\item \\texttt{container}: Specify the container type, see \\href{@ref}{Containers in macros}.\n",
       "\n",
       "\\end{itemize}\n",
       "\\subsection{Examples}\n",
       "The following are equivalent ways of creating a variable \\texttt{x} of name \\texttt{x} with lower bound 0:\n",
       "\n",
       "\\begin{verbatim}\n",
       "# Specify everything in `expr`\n",
       "@variable(model, x >= 0)\n",
       "# Specify the lower bound using a keyword argument\n",
       "@variable(model, x, lower_bound=0)\n",
       "# Specify everything in `kw_args`\n",
       "x = @variable(model, base_name=\"x\", lower_bound=0)\n",
       "\\end{verbatim}\n",
       "The following are equivalent ways of creating a \\texttt{DenseAxisArray} of index set \\texttt{[:a, :b]} and with respective upper bounds 2 and 3 and names \\texttt{x[a]} and \\texttt{x[b]}.\n",
       "\n",
       "\\begin{verbatim}\n",
       "ub = Dict(:a => 2, :b => 3)\n",
       "# Specify everything in `expr`\n",
       "@variable(model, x[i=keys(ub)] <= ub[i])\n",
       "# Specify the upper bound using a keyword argument\n",
       "@variable(model, x[i=keys(ub)], upper_bound=ub[i])\n",
       "\\end{verbatim}\n",
       "\\subsection{Note for extending the variable macro}\n",
       "The single scalar variable or each scalar variable of the container are created using \\texttt{add\\_variable(model, build\\_variable(\\_error, info, extra\\_args...; extra\\_kw\\_args...))} where\n",
       "\n",
       "\\begin{itemize}\n",
       "\\item \\texttt{model} is the model passed to the \\texttt{@variable} macro;\n",
       "\n",
       "\n",
       "\\item \\texttt{\\_error} is an error function with a single \\texttt{String} argument showing the \\texttt{@variable} call in addition to the error message given as argument;\n",
       "\n",
       "\n",
       "\\item \\texttt{info} is the \\texttt{VariableInfo} struct containing the information gathered in \\texttt{expr}, the recognized keyword arguments (except \\texttt{base\\_name} and \\texttt{variable\\_type}) and the recognized positional arguments (except \\texttt{Symmetric} and \\texttt{PSD});\n",
       "\n",
       "\n",
       "\\item \\texttt{extra\\_args} are the unrecognized positional arguments of \\texttt{args} plus the value of the \\texttt{variable\\_type} keyword argument if present. The \\texttt{variable\\_type} keyword argument allows the user to pass a position argument to \\texttt{build\\_variable} without the need to give a positional argument to \\texttt{@variable}. In particular, this allows the user to give a positional argument to the \\texttt{build\\_variable} call when using the anonymous single variable syntax \\texttt{@variable(model, kw\\_args...)}; and\n",
       "\n",
       "\n",
       "\\item \\texttt{extra\\_kw\\_args} are the unrecognized keyword argument of \\texttt{kw\\_args}.\n",
       "\n",
       "\\end{itemize}\n",
       "\\subsection{Examples}\n",
       "The following creates a variable \\texttt{x} of name \\texttt{x} with \\texttt{lower\\_bound} 0 as with the first example above but does it without using the \\texttt{@variable} macro\n",
       "\n",
       "\\begin{verbatim}\n",
       "info = VariableInfo(true, 0, false, NaN, false, NaN, false, NaN, false, false)\n",
       "JuMP.add_variable(model, JuMP.build_variable(error, info), \"x\")\n",
       "\\end{verbatim}\n",
       "The following creates a \\texttt{DenseAxisArray} of index set \\texttt{[:a, :b]} and with respective upper bounds 2 and 3 and names \\texttt{x[a]} and \\texttt{x[b]} as with the second example above but does it without using the \\texttt{@variable} macro\n",
       "\n",
       "\\begin{verbatim}\n",
       "# Without the `@variable` macro\n",
       "data = Vector{JuMP.variable_type(model)}(undef, length(keys(ub)))\n",
       "x = JuMP.Containers.DenseAxisArray(data, keys(ub))\n",
       "for i in keys(ub)\n",
       "    info = VariableInfo(false, NaN, true, ub[i], false, NaN, false, NaN, false, false)\n",
       "    x[i] = JuMP.add_variable(model, JuMP.build_variable(error, info), \"x[$i]\")\n",
       "end\n",
       "\\end{verbatim}\n",
       "The following are equivalent ways of creating a \\texttt{Matrix} of size \\texttt{N x N} with variables custom variables created with a JuMP extension using the \\texttt{Poly(X)} positional argument to specify its variables:\n",
       "\n",
       "\\begin{verbatim}\n",
       "# Using the `@variable` macro\n",
       "@variable(model, x[1:N,1:N], Symmetric, Poly(X))\n",
       "# Without the `@variable` macro\n",
       "x = Matrix{JuMP.variable_type(model, Poly(X))}(N, N)\n",
       "info = VariableInfo(false, NaN, false, NaN, false, NaN, false, NaN, false, false)\n",
       "for i in 1:N, j in i:N\n",
       "    x[i,j] = x[j,i] = JuMP.add_variable(model, build_variable(error, info, Poly(X)), \"x[$i,$j]\")\n",
       "end\n",
       "\\end{verbatim}\n"
      ],
      "text/markdown": [
       "```\n",
       "@variable(model, kw_args...)\n",
       "```\n",
       "\n",
       "Add an *anonymous* variable to the model `model` described by the keyword arguments `kw_args` and returns the variable.\n",
       "\n",
       "```\n",
       "@variable(model, expr, args..., kw_args...)\n",
       "```\n",
       "\n",
       "Add a variable to the model `model` described by the expression `expr`, the positional arguments `args` and the keyword arguments `kw_args`. The expression `expr` can either be (note that in the following the symbol `<=` can be used instead of `≤` and the symbol `>=`can be used instead of `≥`)\n",
       "\n",
       "  * of the form `varexpr` creating variables described by `varexpr`;\n",
       "  * of the form `varexpr ≤ ub` (resp. `varexpr ≥ lb`) creating variables described by `varexpr` with upper bounds given by `ub` (resp. lower bounds given by `lb`);\n",
       "  * of the form `varexpr == value` creating variables described by `varexpr` with fixed values given by `value`; or\n",
       "  * of the form `lb ≤ varexpr ≤ ub` or `ub ≥ varexpr ≥ lb` creating variables described by `varexpr` with lower bounds given by `lb` and upper bounds given by `ub`.\n",
       "\n",
       "The expression `varexpr` can either be\n",
       "\n",
       "  * of the form `varname` creating a scalar real variable of name `varname`;\n",
       "  * of the form `varname[...]` or `[...]` creating a container of variables (see [Containers in macros](@ref)).\n",
       "\n",
       "The recognized positional arguments in `args` are the following:\n",
       "\n",
       "  * `Bin`: Sets the variable to be binary, i.e. either 0 or 1.\n",
       "  * `Int`: Sets the variable to be integer, i.e. one of ..., -2, -1, 0, 1, 2, ...\n",
       "  * `Symmetric`: Only available when creating a square matrix of variables, i.e. when `varexpr` is of the form `varname[1:n,1:n]` or `varname[i=1:n,j=1:n]`. It creates a symmetric matrix of variable, that is, it only creates a new variable for `varname[i,j]` with `i ≤ j` and sets `varname[j,i]` to the same variable as `varname[i,j]`.\n",
       "  * `PSD`: The square matrix of variable is both `Symmetric` and constrained to be positive semidefinite.\n",
       "\n",
       "The recognized keyword arguments in `kw_args` are the following:\n",
       "\n",
       "  * `base_name`: Sets the name prefix used to generate variable names. It corresponds to the variable name for scalar variable, otherwise, the variable names are set to `base_name[...]` for each index `...` of the axes `axes`.\n",
       "  * `lower_bound`: Sets the value of the variable lower bound.\n",
       "  * `upper_bound`: Sets the value of the variable upper bound.\n",
       "  * `start`: Sets the variable starting value used as initial guess in optimization.\n",
       "  * `binary`: Sets whether the variable is binary or not.\n",
       "  * `integer`: Sets whether the variable is integer or not.\n",
       "  * `variable_type`: See the \"Note for extending the variable macro\" section below.\n",
       "  * `container`: Specify the container type, see [Containers in macros](@ref).\n",
       "\n",
       "## Examples\n",
       "\n",
       "The following are equivalent ways of creating a variable `x` of name `x` with lower bound 0:\n",
       "\n",
       "```julia\n",
       "# Specify everything in `expr`\n",
       "@variable(model, x >= 0)\n",
       "# Specify the lower bound using a keyword argument\n",
       "@variable(model, x, lower_bound=0)\n",
       "# Specify everything in `kw_args`\n",
       "x = @variable(model, base_name=\"x\", lower_bound=0)\n",
       "```\n",
       "\n",
       "The following are equivalent ways of creating a `DenseAxisArray` of index set `[:a, :b]` and with respective upper bounds 2 and 3 and names `x[a]` and `x[b]`.\n",
       "\n",
       "```julia\n",
       "ub = Dict(:a => 2, :b => 3)\n",
       "# Specify everything in `expr`\n",
       "@variable(model, x[i=keys(ub)] <= ub[i])\n",
       "# Specify the upper bound using a keyword argument\n",
       "@variable(model, x[i=keys(ub)], upper_bound=ub[i])\n",
       "```\n",
       "\n",
       "## Note for extending the variable macro\n",
       "\n",
       "The single scalar variable or each scalar variable of the container are created using `add_variable(model, build_variable(_error, info, extra_args...; extra_kw_args...))` where\n",
       "\n",
       "  * `model` is the model passed to the `@variable` macro;\n",
       "  * `_error` is an error function with a single `String` argument showing the `@variable` call in addition to the error message given as argument;\n",
       "  * `info` is the `VariableInfo` struct containing the information gathered in `expr`, the recognized keyword arguments (except `base_name` and `variable_type`) and the recognized positional arguments (except `Symmetric` and `PSD`);\n",
       "  * `extra_args` are the unrecognized positional arguments of `args` plus the value of the `variable_type` keyword argument if present. The `variable_type` keyword argument allows the user to pass a position argument to `build_variable` without the need to give a positional argument to `@variable`. In particular, this allows the user to give a positional argument to the `build_variable` call when using the anonymous single variable syntax `@variable(model, kw_args...)`; and\n",
       "  * `extra_kw_args` are the unrecognized keyword argument of `kw_args`.\n",
       "\n",
       "## Examples\n",
       "\n",
       "The following creates a variable `x` of name `x` with `lower_bound` 0 as with the first example above but does it without using the `@variable` macro\n",
       "\n",
       "```julia\n",
       "info = VariableInfo(true, 0, false, NaN, false, NaN, false, NaN, false, false)\n",
       "JuMP.add_variable(model, JuMP.build_variable(error, info), \"x\")\n",
       "```\n",
       "\n",
       "The following creates a `DenseAxisArray` of index set `[:a, :b]` and with respective upper bounds 2 and 3 and names `x[a]` and `x[b]` as with the second example above but does it without using the `@variable` macro\n",
       "\n",
       "```julia\n",
       "# Without the `@variable` macro\n",
       "data = Vector{JuMP.variable_type(model)}(undef, length(keys(ub)))\n",
       "x = JuMP.Containers.DenseAxisArray(data, keys(ub))\n",
       "for i in keys(ub)\n",
       "    info = VariableInfo(false, NaN, true, ub[i], false, NaN, false, NaN, false, false)\n",
       "    x[i] = JuMP.add_variable(model, JuMP.build_variable(error, info), \"x[$i]\")\n",
       "end\n",
       "```\n",
       "\n",
       "The following are equivalent ways of creating a `Matrix` of size `N x N` with variables custom variables created with a JuMP extension using the `Poly(X)` positional argument to specify its variables:\n",
       "\n",
       "```julia\n",
       "# Using the `@variable` macro\n",
       "@variable(model, x[1:N,1:N], Symmetric, Poly(X))\n",
       "# Without the `@variable` macro\n",
       "x = Matrix{JuMP.variable_type(model, Poly(X))}(N, N)\n",
       "info = VariableInfo(false, NaN, false, NaN, false, NaN, false, NaN, false, false)\n",
       "for i in 1:N, j in i:N\n",
       "    x[i,j] = x[j,i] = JuMP.add_variable(model, build_variable(error, info, Poly(X)), \"x[$i,$j]\")\n",
       "end\n",
       "```\n"
      ],
      "text/plain": [
       "\u001b[36m  @variable(model, kw_args...)\u001b[39m\n",
       "\n",
       "  Add an \u001b[4manonymous\u001b[24m variable to the model \u001b[36mmodel\u001b[39m described by the keyword\n",
       "  arguments \u001b[36mkw_args\u001b[39m and returns the variable.\n",
       "\n",
       "\u001b[36m  @variable(model, expr, args..., kw_args...)\u001b[39m\n",
       "\n",
       "  Add a variable to the model \u001b[36mmodel\u001b[39m described by the expression \u001b[36mexpr\u001b[39m, the\n",
       "  positional arguments \u001b[36margs\u001b[39m and the keyword arguments \u001b[36mkw_args\u001b[39m. The expression\n",
       "  \u001b[36mexpr\u001b[39m can either be (note that in the following the symbol \u001b[36m<=\u001b[39m can be used\n",
       "  instead of \u001b[36m≤\u001b[39m and the symbol \u001b[36m>=\u001b[39mcan be used instead of \u001b[36m≥\u001b[39m)\n",
       "\n",
       "    •    of the form \u001b[36mvarexpr\u001b[39m creating variables described by \u001b[36mvarexpr\u001b[39m;\n",
       "\n",
       "    •    of the form \u001b[36mvarexpr ≤ ub\u001b[39m (resp. \u001b[36mvarexpr ≥ lb\u001b[39m) creating variables\n",
       "        described by \u001b[36mvarexpr\u001b[39m with upper bounds given by \u001b[36mub\u001b[39m (resp. lower\n",
       "        bounds given by \u001b[36mlb\u001b[39m);\n",
       "\n",
       "    •    of the form \u001b[36mvarexpr == value\u001b[39m creating variables described by\n",
       "        \u001b[36mvarexpr\u001b[39m with fixed values given by \u001b[36mvalue\u001b[39m; or\n",
       "\n",
       "    •    of the form \u001b[36mlb ≤ varexpr ≤ ub\u001b[39m or \u001b[36mub ≥ varexpr ≥ lb\u001b[39m creating\n",
       "        variables described by \u001b[36mvarexpr\u001b[39m with lower bounds given by \u001b[36mlb\u001b[39m and\n",
       "        upper bounds given by \u001b[36mub\u001b[39m.\n",
       "\n",
       "  The expression \u001b[36mvarexpr\u001b[39m can either be\n",
       "\n",
       "    •    of the form \u001b[36mvarname\u001b[39m creating a scalar real variable of name\n",
       "        \u001b[36mvarname\u001b[39m;\n",
       "\n",
       "    •    of the form \u001b[36mvarname[...]\u001b[39m or \u001b[36m[...]\u001b[39m creating a container of\n",
       "        variables (see Containers in macros).\n",
       "\n",
       "  The recognized positional arguments in \u001b[36margs\u001b[39m are the following:\n",
       "\n",
       "    •    \u001b[36mBin\u001b[39m: Sets the variable to be binary, i.e. either 0 or 1.\n",
       "\n",
       "    •    \u001b[36mInt\u001b[39m: Sets the variable to be integer, i.e. one of ..., -2, -1, 0,\n",
       "        1, 2, ...\n",
       "\n",
       "    •    \u001b[36mSymmetric\u001b[39m: Only available when creating a square matrix of\n",
       "        variables, i.e. when \u001b[36mvarexpr\u001b[39m is of the form \u001b[36mvarname[1:n,1:n]\u001b[39m or\n",
       "        \u001b[36mvarname[i=1:n,j=1:n]\u001b[39m. It creates a symmetric matrix of variable,\n",
       "        that is, it only creates a new variable for \u001b[36mvarname[i,j]\u001b[39m with \u001b[36mi ≤\n",
       "        j\u001b[39m and sets \u001b[36mvarname[j,i]\u001b[39m to the same variable as \u001b[36mvarname[i,j]\u001b[39m.\n",
       "\n",
       "    •    \u001b[36mPSD\u001b[39m: The square matrix of variable is both \u001b[36mSymmetric\u001b[39m and\n",
       "        constrained to be positive semidefinite.\n",
       "\n",
       "  The recognized keyword arguments in \u001b[36mkw_args\u001b[39m are the following:\n",
       "\n",
       "    •    \u001b[36mbase_name\u001b[39m: Sets the name prefix used to generate variable names.\n",
       "        It corresponds to the variable name for scalar variable,\n",
       "        otherwise, the variable names are set to \u001b[36mbase_name[...]\u001b[39m for each\n",
       "        index \u001b[36m...\u001b[39m of the axes \u001b[36maxes\u001b[39m.\n",
       "\n",
       "    •    \u001b[36mlower_bound\u001b[39m: Sets the value of the variable lower bound.\n",
       "\n",
       "    •    \u001b[36mupper_bound\u001b[39m: Sets the value of the variable upper bound.\n",
       "\n",
       "    •    \u001b[36mstart\u001b[39m: Sets the variable starting value used as initial guess in\n",
       "        optimization.\n",
       "\n",
       "    •    \u001b[36mbinary\u001b[39m: Sets whether the variable is binary or not.\n",
       "\n",
       "    •    \u001b[36minteger\u001b[39m: Sets whether the variable is integer or not.\n",
       "\n",
       "    •    \u001b[36mvariable_type\u001b[39m: See the \"Note for extending the variable macro\"\n",
       "        section below.\n",
       "\n",
       "    •    \u001b[36mcontainer\u001b[39m: Specify the container type, see Containers in macros.\n",
       "\n",
       "\u001b[1m  Examples\u001b[22m\n",
       "\u001b[1m  ==========\u001b[22m\n",
       "\n",
       "  The following are equivalent ways of creating a variable \u001b[36mx\u001b[39m of name \u001b[36mx\u001b[39m with\n",
       "  lower bound 0:\n",
       "\n",
       "\u001b[36m  # Specify everything in `expr`\u001b[39m\n",
       "\u001b[36m  @variable(model, x >= 0)\u001b[39m\n",
       "\u001b[36m  # Specify the lower bound using a keyword argument\u001b[39m\n",
       "\u001b[36m  @variable(model, x, lower_bound=0)\u001b[39m\n",
       "\u001b[36m  # Specify everything in `kw_args`\u001b[39m\n",
       "\u001b[36m  x = @variable(model, base_name=\"x\", lower_bound=0)\u001b[39m\n",
       "\n",
       "  The following are equivalent ways of creating a \u001b[36mDenseAxisArray\u001b[39m of index set\n",
       "  \u001b[36m[:a, :b]\u001b[39m and with respective upper bounds 2 and 3 and names \u001b[36mx[a]\u001b[39m and \u001b[36mx[b]\u001b[39m.\n",
       "\n",
       "\u001b[36m  ub = Dict(:a => 2, :b => 3)\u001b[39m\n",
       "\u001b[36m  # Specify everything in `expr`\u001b[39m\n",
       "\u001b[36m  @variable(model, x[i=keys(ub)] <= ub[i])\u001b[39m\n",
       "\u001b[36m  # Specify the upper bound using a keyword argument\u001b[39m\n",
       "\u001b[36m  @variable(model, x[i=keys(ub)], upper_bound=ub[i])\u001b[39m\n",
       "\n",
       "\u001b[1m  Note for extending the variable macro\u001b[22m\n",
       "\u001b[1m  =======================================\u001b[22m\n",
       "\n",
       "  The single scalar variable or each scalar variable of the container are\n",
       "  created using \u001b[36madd_variable(model, build_variable(_error, info,\n",
       "  extra_args...; extra_kw_args...))\u001b[39m where\n",
       "\n",
       "    •    \u001b[36mmodel\u001b[39m is the model passed to the \u001b[36m@variable\u001b[39m macro;\n",
       "\n",
       "    •    \u001b[36m_error\u001b[39m is an error function with a single \u001b[36mString\u001b[39m argument showing\n",
       "        the \u001b[36m@variable\u001b[39m call in addition to the error message given as\n",
       "        argument;\n",
       "\n",
       "    •    \u001b[36minfo\u001b[39m is the \u001b[36mVariableInfo\u001b[39m struct containing the information\n",
       "        gathered in \u001b[36mexpr\u001b[39m, the recognized keyword arguments (except\n",
       "        \u001b[36mbase_name\u001b[39m and \u001b[36mvariable_type\u001b[39m) and the recognized positional\n",
       "        arguments (except \u001b[36mSymmetric\u001b[39m and \u001b[36mPSD\u001b[39m);\n",
       "\n",
       "    •    \u001b[36mextra_args\u001b[39m are the unrecognized positional arguments of \u001b[36margs\u001b[39m plus\n",
       "        the value of the \u001b[36mvariable_type\u001b[39m keyword argument if present. The\n",
       "        \u001b[36mvariable_type\u001b[39m keyword argument allows the user to pass a position\n",
       "        argument to \u001b[36mbuild_variable\u001b[39m without the need to give a positional\n",
       "        argument to \u001b[36m@variable\u001b[39m. In particular, this allows the user to give\n",
       "        a positional argument to the \u001b[36mbuild_variable\u001b[39m call when using the\n",
       "        anonymous single variable syntax \u001b[36m@variable(model, kw_args...)\u001b[39m; and\n",
       "\n",
       "    •    \u001b[36mextra_kw_args\u001b[39m are the unrecognized keyword argument of \u001b[36mkw_args\u001b[39m.\n",
       "\n",
       "\u001b[1m  Examples\u001b[22m\n",
       "\u001b[1m  ==========\u001b[22m\n",
       "\n",
       "  The following creates a variable \u001b[36mx\u001b[39m of name \u001b[36mx\u001b[39m with \u001b[36mlower_bound\u001b[39m 0 as with the\n",
       "  first example above but does it without using the \u001b[36m@variable\u001b[39m macro\n",
       "\n",
       "\u001b[36m  info = VariableInfo(true, 0, false, NaN, false, NaN, false, NaN, false, false)\u001b[39m\n",
       "\u001b[36m  JuMP.add_variable(model, JuMP.build_variable(error, info), \"x\")\u001b[39m\n",
       "\n",
       "  The following creates a \u001b[36mDenseAxisArray\u001b[39m of index set \u001b[36m[:a, :b]\u001b[39m and with\n",
       "  respective upper bounds 2 and 3 and names \u001b[36mx[a]\u001b[39m and \u001b[36mx[b]\u001b[39m as with the second\n",
       "  example above but does it without using the \u001b[36m@variable\u001b[39m macro\n",
       "\n",
       "\u001b[36m  # Without the `@variable` macro\u001b[39m\n",
       "\u001b[36m  data = Vector{JuMP.variable_type(model)}(undef, length(keys(ub)))\u001b[39m\n",
       "\u001b[36m  x = JuMP.Containers.DenseAxisArray(data, keys(ub))\u001b[39m\n",
       "\u001b[36m  for i in keys(ub)\u001b[39m\n",
       "\u001b[36m      info = VariableInfo(false, NaN, true, ub[i], false, NaN, false, NaN, false, false)\u001b[39m\n",
       "\u001b[36m      x[i] = JuMP.add_variable(model, JuMP.build_variable(error, info), \"x[$i]\")\u001b[39m\n",
       "\u001b[36m  end\u001b[39m\n",
       "\n",
       "  The following are equivalent ways of creating a \u001b[36mMatrix\u001b[39m of size \u001b[36mN x N\u001b[39m with\n",
       "  variables custom variables created with a JuMP extension using the \u001b[36mPoly(X)\u001b[39m\n",
       "  positional argument to specify its variables:\n",
       "\n",
       "\u001b[36m  # Using the `@variable` macro\u001b[39m\n",
       "\u001b[36m  @variable(model, x[1:N,1:N], Symmetric, Poly(X))\u001b[39m\n",
       "\u001b[36m  # Without the `@variable` macro\u001b[39m\n",
       "\u001b[36m  x = Matrix{JuMP.variable_type(model, Poly(X))}(N, N)\u001b[39m\n",
       "\u001b[36m  info = VariableInfo(false, NaN, false, NaN, false, NaN, false, NaN, false, false)\u001b[39m\n",
       "\u001b[36m  for i in 1:N, j in i:N\u001b[39m\n",
       "\u001b[36m      x[i,j] = x[j,i] = JuMP.add_variable(model, build_variable(error, info, Poly(X)), \"x[$i,$j]\")\u001b[39m\n",
       "\u001b[36m  end\u001b[39m"
      ]
     },
     "execution_count": 11,
     "metadata": {},
     "output_type": "execute_result"
    }
   ],
   "source": [
    "? @variable"
   ]
  },
  {
   "cell_type": "code",
   "execution_count": 5,
   "metadata": {},
   "outputs": [
    {
     "data": {
      "text/latex": [
       "$$ Decision Varible $$"
      ],
      "text/plain": [
       "Decision Varible"
      ]
     },
     "execution_count": 5,
     "metadata": {},
     "output_type": "execute_result"
    }
   ],
   "source": [
    "@variable(model, 0 <= x <= 2)\n",
    "y = @variable(model, base_name=\"y\", lower_bound=0, upper_bound=30)"
   ]
  },
  {
   "cell_type": "code",
   "execution_count": null,
   "metadata": {},
   "outputs": [],
   "source": [
    "? lower_bound"
   ]
  },
  {
   "cell_type": "code",
   "execution_count": null,
   "metadata": {},
   "outputs": [],
   "source": [
    "? upper_bound"
   ]
  },
  {
   "cell_type": "code",
   "execution_count": null,
   "metadata": {},
   "outputs": [],
   "source": [
    "println(\"Lower bound on x: \", lower_bound(x))\n",
    "println(\"Upper bound on y: \", upper_bound(y))"
   ]
  },
  {
   "cell_type": "markdown",
   "metadata": {},
   "source": [
    "## Part 2.3 Setting the Objective\n",
    "Next we'll set our objective on the `model` we defined earlier. The objective sense, `Max` or `Min`, should be provided as the second argument. \n",
    "\n",
    "Note also that we don't have a multiplication `*` symbol between `5` and our variable `x` - Julia is smart enough to not need it. We can also use `*`. Choose between the two convention based on convienence."
   ]
  },
  {
   "cell_type": "code",
   "execution_count": null,
   "metadata": {},
   "outputs": [],
   "source": [
    "? @objective"
   ]
  },
  {
   "cell_type": "code",
   "execution_count": 6,
   "metadata": {},
   "outputs": [
    {
     "data": {
      "text/latex": [
       "$$ 5 x + 3 Decision Varible $$"
      ],
      "text/plain": [
       "5 x + 3 Decision Varible"
      ]
     },
     "execution_count": 6,
     "metadata": {},
     "output_type": "execute_result"
    }
   ],
   "source": [
    "@objective(model, Max, 5x + 3 * y)"
   ]
  },
  {
   "cell_type": "markdown",
   "metadata": {},
   "source": [
    "## Part 2.4 Setting the Constraints\n",
    "Adding constraints is a lot like setting the objective. Here we create a less-than-or-equal-to constraint using `<=`, but we can also create equality constraints using `==` and greater-than-or-equal-to constraints with `>=`."
   ]
  },
  {
   "cell_type": "code",
   "execution_count": 8,
   "metadata": {},
   "outputs": [
    {
     "data": {
      "text/latex": [
       "\\begin{verbatim}\n",
       "@constraints(m, args...)\n",
       "\\end{verbatim}\n",
       "adds groups of constraints at once, in the same fashion as @constraint. The model must be the first argument, and multiple constraints can be added on multiple lines wrapped in a \\texttt{begin ... end} block. For example:\n",
       "\n",
       "\\begin{verbatim}\n",
       "@constraints(m, begin\n",
       "  x >= 1\n",
       "  y - w <= 2\n",
       "  sum_to_one[i=1:3], z[i] + y == 1\n",
       "end)\n",
       "\\end{verbatim}\n"
      ],
      "text/markdown": [
       "```\n",
       "@constraints(m, args...)\n",
       "```\n",
       "\n",
       "adds groups of constraints at once, in the same fashion as @constraint. The model must be the first argument, and multiple constraints can be added on multiple lines wrapped in a `begin ... end` block. For example:\n",
       "\n",
       "```\n",
       "@constraints(m, begin\n",
       "  x >= 1\n",
       "  y - w <= 2\n",
       "  sum_to_one[i=1:3], z[i] + y == 1\n",
       "end)\n",
       "```\n"
      ],
      "text/plain": [
       "\u001b[36m  @constraints(m, args...)\u001b[39m\n",
       "\n",
       "  adds groups of constraints at once, in the same fashion as @constraint. The\n",
       "  model must be the first argument, and multiple constraints can be added on\n",
       "  multiple lines wrapped in a \u001b[36mbegin ... end\u001b[39m block. For example:\n",
       "\n",
       "\u001b[36m  @constraints(m, begin\u001b[39m\n",
       "\u001b[36m    x >= 1\u001b[39m\n",
       "\u001b[36m    y - w <= 2\u001b[39m\n",
       "\u001b[36m    sum_to_one[i=1:3], z[i] + y == 1\u001b[39m\n",
       "\u001b[36m  end)\u001b[39m"
      ]
     },
     "execution_count": 8,
     "metadata": {},
     "output_type": "execute_result"
    }
   ],
   "source": [
    "? @constraints"
   ]
  },
  {
   "cell_type": "code",
   "execution_count": 9,
   "metadata": {},
   "outputs": [
    {
     "data": {
      "text/latex": [
       "\\begin{verbatim}\n",
       "@constraint(m::Model, expr)\n",
       "\\end{verbatim}\n",
       "Add a constraint described by the expression \\texttt{expr}.\n",
       "\n",
       "\\begin{verbatim}\n",
       "@constraint(m::Model, ref[i=..., j=..., ...], expr)\n",
       "\\end{verbatim}\n",
       "Add a group of constraints described by the expression \\texttt{expr} parametrized by \\texttt{i}, \\texttt{j}, ...\n",
       "\n",
       "The expression \\texttt{expr} can either be\n",
       "\n",
       "\\begin{itemize}\n",
       "\\item of the form \\texttt{func in set} constraining the function \\texttt{func} to belong to the set \\texttt{set} which is either a \\href{http://www.juliaopt.org/MathOptInterface.jl/v0.6.2/apireference.html#Sets-1}{\\texttt{MathOptInterface.AbstractSet}} or one of the JuMP shortcuts \\href{@ref}{\\texttt{SecondOrderCone}}, \\href{@ref}{\\texttt{RotatedSecondOrderCone}} and \\href{@ref}{\\texttt{PSDCone}}, e.g. \\texttt{@constraint(model, [1, x-1, y-2] in SecondOrderCone())} constrains the norm of \\texttt{[x-1, y-2]} be less than 1;\n",
       "\n",
       "\n",
       "\\item of the form \\texttt{a sign b}, where \\texttt{sign} is one of \\texttt{==}, \\texttt{≥}, \\texttt{>=}, \\texttt{≤} and \\texttt{<=} building the single constraint enforcing the comparison to hold for the expression \\texttt{a} and \\texttt{b}, e.g. \\texttt{@constraint(m, x\\^{}2 + y\\^{}2 == 1)} constrains \\texttt{x} and \\texttt{y} to lie on the unit circle;\n",
       "\n",
       "\n",
       "\\item of the form \\texttt{a ≤ b ≤ c} or \\texttt{a ≥ b ≥ c} (where \\texttt{≤} and \\texttt{<=} (resp. \\texttt{≥} and \\texttt{>=}) can be used interchangeably) constraining the paired the expression \\texttt{b} to lie between \\texttt{a} and \\texttt{c};\n",
       "\n",
       "\n",
       "\\item of the forms \\texttt{@constraint(m, a .sign b)} or \\texttt{@constraint(m, a .sign b .sign c)} which broadcast the constraint creation to each element of the vectors.\n",
       "\n",
       "\\end{itemize}\n",
       "\\subsection{Note for extending the constraint macro}\n",
       "Each constraint will be created using \\texttt{add\\_constraint(m, build\\_constraint(\\_error, func, set))} where\n",
       "\n",
       "\\begin{itemize}\n",
       "\\item \\texttt{\\_error} is an error function showing the constraint call in addition to the error message given as argument,\n",
       "\n",
       "\n",
       "\\item \\texttt{func} is the expression that is constrained\n",
       "\n",
       "\n",
       "\\item and \\texttt{set} is the set in which it is constrained to belong.\n",
       "\n",
       "\\end{itemize}\n",
       "For \\texttt{expr} of the first type (i.e. \\texttt{@constraint(m, func in set)}), \\texttt{func} and \\texttt{set} are passed unchanged to \\texttt{build\\_constraint} but for the other types, they are determined from the expressions and signs. For instance, \\texttt{@constraint(m, x\\^{}2 + y\\^{}2 == 1)} is transformed into \\texttt{add\\_constraint(m, build\\_constraint(\\_error, x\\^{}2 + y\\^{}2, MOI.EqualTo(1.0)))}.\n",
       "\n",
       "To extend JuMP to accept new constraints of this form, it is necessary to add the corresponding methods to \\texttt{build\\_constraint}. Note that this will likely mean that either \\texttt{func} or \\texttt{set} will be some custom type, rather than e.g. a \\texttt{Symbol}, since we will likely want to dispatch on the type of the function or set appearing in the constraint.\n",
       "\n"
      ],
      "text/markdown": [
       "```\n",
       "@constraint(m::Model, expr)\n",
       "```\n",
       "\n",
       "Add a constraint described by the expression `expr`.\n",
       "\n",
       "```\n",
       "@constraint(m::Model, ref[i=..., j=..., ...], expr)\n",
       "```\n",
       "\n",
       "Add a group of constraints described by the expression `expr` parametrized by `i`, `j`, ...\n",
       "\n",
       "The expression `expr` can either be\n",
       "\n",
       "  * of the form `func in set` constraining the function `func` to belong to the set `set` which is either a [`MathOptInterface.AbstractSet`](http://www.juliaopt.org/MathOptInterface.jl/v0.6.2/apireference.html#Sets-1) or one of the JuMP shortcuts [`SecondOrderCone`](@ref), [`RotatedSecondOrderCone`](@ref) and [`PSDCone`](@ref), e.g. `@constraint(model, [1, x-1, y-2] in SecondOrderCone())` constrains the norm of `[x-1, y-2]` be less than 1;\n",
       "  * of the form `a sign b`, where `sign` is one of `==`, `≥`, `>=`, `≤` and `<=` building the single constraint enforcing the comparison to hold for the expression `a` and `b`, e.g. `@constraint(m, x^2 + y^2 == 1)` constrains `x` and `y` to lie on the unit circle;\n",
       "  * of the form `a ≤ b ≤ c` or `a ≥ b ≥ c` (where `≤` and `<=` (resp. `≥` and `>=`) can be used interchangeably) constraining the paired the expression `b` to lie between `a` and `c`;\n",
       "  * of the forms `@constraint(m, a .sign b)` or `@constraint(m, a .sign b .sign c)` which broadcast the constraint creation to each element of the vectors.\n",
       "\n",
       "## Note for extending the constraint macro\n",
       "\n",
       "Each constraint will be created using `add_constraint(m, build_constraint(_error, func, set))` where\n",
       "\n",
       "  * `_error` is an error function showing the constraint call in addition to the error message given as argument,\n",
       "  * `func` is the expression that is constrained\n",
       "  * and `set` is the set in which it is constrained to belong.\n",
       "\n",
       "For `expr` of the first type (i.e. `@constraint(m, func in set)`), `func` and `set` are passed unchanged to `build_constraint` but for the other types, they are determined from the expressions and signs. For instance, `@constraint(m, x^2 + y^2 == 1)` is transformed into `add_constraint(m, build_constraint(_error, x^2 + y^2, MOI.EqualTo(1.0)))`.\n",
       "\n",
       "To extend JuMP to accept new constraints of this form, it is necessary to add the corresponding methods to `build_constraint`. Note that this will likely mean that either `func` or `set` will be some custom type, rather than e.g. a `Symbol`, since we will likely want to dispatch on the type of the function or set appearing in the constraint.\n"
      ],
      "text/plain": [
       "\u001b[36m  @constraint(m::Model, expr)\u001b[39m\n",
       "\n",
       "  Add a constraint described by the expression \u001b[36mexpr\u001b[39m.\n",
       "\n",
       "\u001b[36m  @constraint(m::Model, ref[i=..., j=..., ...], expr)\u001b[39m\n",
       "\n",
       "  Add a group of constraints described by the expression \u001b[36mexpr\u001b[39m parametrized by\n",
       "  \u001b[36mi\u001b[39m, \u001b[36mj\u001b[39m, ...\n",
       "\n",
       "  The expression \u001b[36mexpr\u001b[39m can either be\n",
       "\n",
       "    •    of the form \u001b[36mfunc in set\u001b[39m constraining the function \u001b[36mfunc\u001b[39m to belong\n",
       "        to the set \u001b[36mset\u001b[39m which is either a \u001b[36mMathOptInterface.AbstractSet\u001b[39m\n",
       "       \n",
       "      (http://www.juliaopt.org/MathOptInterface.jl/v0.6.2/apireference.html#Sets-1)\n",
       "        or one of the JuMP shortcuts \u001b[36mSecondOrderCone\u001b[39m,\n",
       "        \u001b[36mRotatedSecondOrderCone\u001b[39m and \u001b[36mPSDCone\u001b[39m, e.g. \u001b[36m@constraint(model, [1,\n",
       "        x-1, y-2] in SecondOrderCone())\u001b[39m constrains the norm of \u001b[36m[x-1, y-2]\u001b[39m\n",
       "        be less than 1;\n",
       "\n",
       "    •    of the form \u001b[36ma sign b\u001b[39m, where \u001b[36msign\u001b[39m is one of \u001b[36m==\u001b[39m, \u001b[36m≥\u001b[39m, \u001b[36m>=\u001b[39m, \u001b[36m≤\u001b[39m and \u001b[36m<=\u001b[39m\n",
       "        building the single constraint enforcing the comparison to hold\n",
       "        for the expression \u001b[36ma\u001b[39m and \u001b[36mb\u001b[39m, e.g. \u001b[36m@constraint(m, x^2 + y^2 == 1)\u001b[39m\n",
       "        constrains \u001b[36mx\u001b[39m and \u001b[36my\u001b[39m to lie on the unit circle;\n",
       "\n",
       "    •    of the form \u001b[36ma ≤ b ≤ c\u001b[39m or \u001b[36ma ≥ b ≥ c\u001b[39m (where \u001b[36m≤\u001b[39m and \u001b[36m<=\u001b[39m (resp. \u001b[36m≥\u001b[39m and\n",
       "        \u001b[36m>=\u001b[39m) can be used interchangeably) constraining the paired the\n",
       "        expression \u001b[36mb\u001b[39m to lie between \u001b[36ma\u001b[39m and \u001b[36mc\u001b[39m;\n",
       "\n",
       "    •    of the forms \u001b[36m@constraint(m, a .sign b)\u001b[39m or \u001b[36m@constraint(m, a .sign b\n",
       "        .sign c)\u001b[39m which broadcast the constraint creation to each element\n",
       "        of the vectors.\n",
       "\n",
       "\u001b[1m  Note for extending the constraint macro\u001b[22m\n",
       "\u001b[1m  =========================================\u001b[22m\n",
       "\n",
       "  Each constraint will be created using \u001b[36madd_constraint(m,\n",
       "  build_constraint(_error, func, set))\u001b[39m where\n",
       "\n",
       "    •    \u001b[36m_error\u001b[39m is an error function showing the constraint call in\n",
       "        addition to the error message given as argument,\n",
       "\n",
       "    •    \u001b[36mfunc\u001b[39m is the expression that is constrained\n",
       "\n",
       "    •    and \u001b[36mset\u001b[39m is the set in which it is constrained to belong.\n",
       "\n",
       "  For \u001b[36mexpr\u001b[39m of the first type (i.e. \u001b[36m@constraint(m, func in set)\u001b[39m), \u001b[36mfunc\u001b[39m and \u001b[36mset\u001b[39m\n",
       "  are passed unchanged to \u001b[36mbuild_constraint\u001b[39m but for the other types, they are\n",
       "  determined from the expressions and signs. For instance, \u001b[36m@constraint(m, x^2\n",
       "  + y^2 == 1)\u001b[39m is transformed into \u001b[36madd_constraint(m, build_constraint(_error,\n",
       "  x^2 + y^2, MOI.EqualTo(1.0)))\u001b[39m.\n",
       "\n",
       "  To extend JuMP to accept new constraints of this form, it is necessary to\n",
       "  add the corresponding methods to \u001b[36mbuild_constraint\u001b[39m. Note that this will\n",
       "  likely mean that either \u001b[36mfunc\u001b[39m or \u001b[36mset\u001b[39m will be some custom type, rather than\n",
       "  e.g. a \u001b[36mSymbol\u001b[39m, since we will likely want to dispatch on the type of the\n",
       "  function or set appearing in the constraint."
      ]
     },
     "execution_count": 9,
     "metadata": {},
     "output_type": "execute_result"
    }
   ],
   "source": [
    "? @constraint"
   ]
  },
  {
   "cell_type": "code",
   "execution_count": 12,
   "metadata": {},
   "outputs": [
    {
     "data": {
      "text/latex": [
       "con : $ x + 5 Decision Varible \\leq 3.0 $"
      ],
      "text/plain": [
       "con : x + 5 Decision Varible <= 3.0"
      ]
     },
     "execution_count": 12,
     "metadata": {},
     "output_type": "execute_result"
    }
   ],
   "source": [
    "# We have named the constarint as \"con\" \n",
    "@constraint(model, con, 1x + 5y <= 3)"
   ]
  },
  {
   "cell_type": "markdown",
   "metadata": {},
   "source": [
    "## Part 2.5 Optimizing the objective\n",
    "Models are solved with the `JuMP.optimize!` function. After the call to `JuMP.optimize!` has finished, we need to query what happened. The solve could terminate for a number of reasons. First, the solver might have found the optimal solution or proved that the problem is infeasible. However, it might also have run into numerical difficulties or terminated due to a setting such as a time limit. We can ask the solver why it stopped using the `JuMP.termination_status` function."
   ]
  },
  {
   "cell_type": "code",
   "execution_count": 13,
   "metadata": {},
   "outputs": [
    {
     "name": "stdout",
     "output_type": "stream",
     "text": [
      "search: \u001b[0m\u001b[1mo\u001b[22m\u001b[0m\u001b[1mp\u001b[22m\u001b[0m\u001b[1mt\u001b[22m\u001b[0m\u001b[1mi\u001b[22m\u001b[0m\u001b[1mm\u001b[22m\u001b[0m\u001b[1mi\u001b[22m\u001b[0m\u001b[1mz\u001b[22m\u001b[0m\u001b[1me\u001b[22m\u001b[0m\u001b[1m!\u001b[22m \u001b[0m\u001b[1mo\u001b[22m\u001b[0m\u001b[1mp\u001b[22m\u001b[0m\u001b[1mt\u001b[22m\u001b[0m\u001b[1mi\u001b[22m\u001b[0m\u001b[1mm\u001b[22m\u001b[0m\u001b[1mi\u001b[22m\u001b[0m\u001b[1mz\u001b[22m\u001b[0m\u001b[1me\u001b[22m_ticks \u001b[0m\u001b[1mo\u001b[22m\u001b[0m\u001b[1mp\u001b[22m\u001b[0m\u001b[1mt\u001b[22m\u001b[0m\u001b[1mi\u001b[22m\u001b[0m\u001b[1mm\u001b[22m\u001b[0m\u001b[1mi\u001b[22m\u001b[0m\u001b[1mz\u001b[22m\u001b[0m\u001b[1me\u001b[22mr_index \u001b[0m\u001b[1mO\u001b[22m\u001b[0m\u001b[1mp\u001b[22m\u001b[0m\u001b[1mt\u001b[22m\u001b[0m\u001b[1mi\u001b[22m\u001b[0m\u001b[1mm\u001b[22m\u001b[0m\u001b[1mi\u001b[22m\u001b[0m\u001b[1mz\u001b[22m\u001b[0m\u001b[1me\u001b[22mrFactory\n",
      "\n"
     ]
    },
    {
     "data": {
      "text/latex": [
       "\\begin{verbatim}\n",
       "optimize!(model::Model,\n",
       "          optimizer_factory::Union{Nothing, OptimizerFactory}=nothing;\n",
       "          bridge_constraints::Bool=true,\n",
       "          ignore_optimize_hook=(model.optimize_hook === nothing),\n",
       "          kwargs...)\n",
       "\\end{verbatim}\n",
       "Optimize the model. If \\texttt{optimizer\\_factory} is not \\texttt{nothing}, it first sets the optimizer to a new one created using the optimizer factory. The factory can be created using the \\href{@ref}{\\texttt{with\\_optimizer}} function. If \\texttt{optimizer\\_factory} is \\texttt{nothing} and no optimizer was set to \\texttt{model} before calling this function, a \\href{@ref}{\\texttt{NoOptimizer}} error is thrown.\n",
       "\n",
       "Keyword arguments \\texttt{kwargs} are passed to the \\texttt{optimize\\_hook}. An error is thrown if \\texttt{optimize\\_hook} is \\texttt{nothing} and keyword arguments are provided.\n",
       "\n",
       "\\subsection{Examples}\n",
       "The optimizer factory can either be given in the \\href{@ref}{\\texttt{Model}} constructor as follows:\n",
       "\n",
       "\\begin{verbatim}\n",
       "model = Model(with_optimizer(GLPK.Optimizer))\n",
       "# ...fill model with variables, constraints and objectives...\n",
       "# Solve the model with GLPK\n",
       "optimize!(model)\n",
       "\\end{verbatim}\n",
       "or in the \\texttt{optimize!} call as follows:\n",
       "\n",
       "\\begin{verbatim}\n",
       "model = Model()\n",
       "# ...fill model with variables, constraints and objectives...\n",
       "# Solve the model with GLPK\n",
       "optimize!(model, with_optimizer(GLPK.Optimizer))\n",
       "\\end{verbatim}\n"
      ],
      "text/markdown": [
       "```\n",
       "optimize!(model::Model,\n",
       "          optimizer_factory::Union{Nothing, OptimizerFactory}=nothing;\n",
       "          bridge_constraints::Bool=true,\n",
       "          ignore_optimize_hook=(model.optimize_hook === nothing),\n",
       "          kwargs...)\n",
       "```\n",
       "\n",
       "Optimize the model. If `optimizer_factory` is not `nothing`, it first sets the optimizer to a new one created using the optimizer factory. The factory can be created using the [`with_optimizer`](@ref) function. If `optimizer_factory` is `nothing` and no optimizer was set to `model` before calling this function, a [`NoOptimizer`](@ref) error is thrown.\n",
       "\n",
       "Keyword arguments `kwargs` are passed to the `optimize_hook`. An error is thrown if `optimize_hook` is `nothing` and keyword arguments are provided.\n",
       "\n",
       "## Examples\n",
       "\n",
       "The optimizer factory can either be given in the [`Model`](@ref) constructor as follows:\n",
       "\n",
       "```julia\n",
       "model = Model(with_optimizer(GLPK.Optimizer))\n",
       "# ...fill model with variables, constraints and objectives...\n",
       "# Solve the model with GLPK\n",
       "optimize!(model)\n",
       "```\n",
       "\n",
       "or in the `optimize!` call as follows:\n",
       "\n",
       "```julia\n",
       "model = Model()\n",
       "# ...fill model with variables, constraints and objectives...\n",
       "# Solve the model with GLPK\n",
       "optimize!(model, with_optimizer(GLPK.Optimizer))\n",
       "```\n"
      ],
      "text/plain": [
       "\u001b[36m  optimize!(model::Model,\u001b[39m\n",
       "\u001b[36m            optimizer_factory::Union{Nothing, OptimizerFactory}=nothing;\u001b[39m\n",
       "\u001b[36m            bridge_constraints::Bool=true,\u001b[39m\n",
       "\u001b[36m            ignore_optimize_hook=(model.optimize_hook === nothing),\u001b[39m\n",
       "\u001b[36m            kwargs...)\u001b[39m\n",
       "\n",
       "  Optimize the model. If \u001b[36moptimizer_factory\u001b[39m is not \u001b[36mnothing\u001b[39m, it first sets the\n",
       "  optimizer to a new one created using the optimizer factory. The factory can\n",
       "  be created using the \u001b[36mwith_optimizer\u001b[39m function. If \u001b[36moptimizer_factory\u001b[39m is\n",
       "  \u001b[36mnothing\u001b[39m and no optimizer was set to \u001b[36mmodel\u001b[39m before calling this function, a\n",
       "  \u001b[36mNoOptimizer\u001b[39m error is thrown.\n",
       "\n",
       "  Keyword arguments \u001b[36mkwargs\u001b[39m are passed to the \u001b[36moptimize_hook\u001b[39m. An error is thrown\n",
       "  if \u001b[36moptimize_hook\u001b[39m is \u001b[36mnothing\u001b[39m and keyword arguments are provided.\n",
       "\n",
       "\u001b[1m  Examples\u001b[22m\n",
       "\u001b[1m  ==========\u001b[22m\n",
       "\n",
       "  The optimizer factory can either be given in the \u001b[36mModel\u001b[39m constructor as\n",
       "  follows:\n",
       "\n",
       "\u001b[36m  model = Model(with_optimizer(GLPK.Optimizer))\u001b[39m\n",
       "\u001b[36m  # ...fill model with variables, constraints and objectives...\u001b[39m\n",
       "\u001b[36m  # Solve the model with GLPK\u001b[39m\n",
       "\u001b[36m  optimize!(model)\u001b[39m\n",
       "\n",
       "  or in the \u001b[36moptimize!\u001b[39m call as follows:\n",
       "\n",
       "\u001b[36m  model = Model()\u001b[39m\n",
       "\u001b[36m  # ...fill model with variables, constraints and objectives...\u001b[39m\n",
       "\u001b[36m  # Solve the model with GLPK\u001b[39m\n",
       "\u001b[36m  optimize!(model, with_optimizer(GLPK.Optimizer))\u001b[39m"
      ]
     },
     "execution_count": 13,
     "metadata": {},
     "output_type": "execute_result"
    }
   ],
   "source": [
    "? optimize! "
   ]
  },
  {
   "cell_type": "code",
   "execution_count": 14,
   "metadata": {},
   "outputs": [],
   "source": [
    "optimize!(model)"
   ]
  },
  {
   "cell_type": "code",
   "execution_count": 15,
   "metadata": {},
   "outputs": [
    {
     "data": {
      "text/latex": [
       "\\begin{verbatim}\n",
       "termination_status(model::Model)\n",
       "\\end{verbatim}\n",
       "Return the reason why the solver stopped (i.e., the MathOptInterface model attribute \\texttt{TerminationStatus}).\n",
       "\n"
      ],
      "text/markdown": [
       "```\n",
       "termination_status(model::Model)\n",
       "```\n",
       "\n",
       "Return the reason why the solver stopped (i.e., the MathOptInterface model attribute `TerminationStatus`).\n"
      ],
      "text/plain": [
       "\u001b[36m  termination_status(model::Model)\u001b[39m\n",
       "\n",
       "  Return the reason why the solver stopped (i.e., the MathOptInterface model\n",
       "  attribute \u001b[36mTerminationStatus\u001b[39m)."
      ]
     },
     "execution_count": 15,
     "metadata": {},
     "output_type": "execute_result"
    }
   ],
   "source": [
    "? termination_status()"
   ]
  },
  {
   "cell_type": "code",
   "execution_count": 16,
   "metadata": {},
   "outputs": [
    {
     "data": {
      "text/plain": [
       "OPTIMAL::TerminationStatusCode = 1"
      ]
     },
     "execution_count": 16,
     "metadata": {},
     "output_type": "execute_result"
    }
   ],
   "source": [
    "termination_status(model)"
   ]
  },
  {
   "cell_type": "markdown",
   "metadata": {},
   "source": [
    "## Part 2.6 Results\n",
    "As the solver found an optimal solution, we expect the solution returned to be a primal-dual pair of feasible solutions with zero duality gap. We can verify the primal and dual status as follows to confirm this:"
   ]
  },
  {
   "cell_type": "code",
   "execution_count": 17,
   "metadata": {},
   "outputs": [
    {
     "data": {
      "text/latex": [
       "\\begin{verbatim}\n",
       "primal_status(model::Model)\n",
       "\\end{verbatim}\n",
       "Return the status of the most recent primal solution of the solver (i.e., the MathOptInterface model attribute \\texttt{PrimalStatus}).\n",
       "\n"
      ],
      "text/markdown": [
       "```\n",
       "primal_status(model::Model)\n",
       "```\n",
       "\n",
       "Return the status of the most recent primal solution of the solver (i.e., the MathOptInterface model attribute `PrimalStatus`).\n"
      ],
      "text/plain": [
       "\u001b[36m  primal_status(model::Model)\u001b[39m\n",
       "\n",
       "  Return the status of the most recent primal solution of the solver (i.e.,\n",
       "  the MathOptInterface model attribute \u001b[36mPrimalStatus\u001b[39m)."
      ]
     },
     "execution_count": 17,
     "metadata": {},
     "output_type": "execute_result"
    }
   ],
   "source": [
    "? primal_status()"
   ]
  },
  {
   "cell_type": "code",
   "execution_count": 19,
   "metadata": {},
   "outputs": [
    {
     "data": {
      "text/latex": [
       "\\begin{verbatim}\n",
       "dual_status(model::Model)\n",
       "\\end{verbatim}\n",
       "Return the status of the most recent dual solution of the solver (i.e., the MathOptInterface model attribute \\texttt{DualStatus}).\n",
       "\n"
      ],
      "text/markdown": [
       "```\n",
       "dual_status(model::Model)\n",
       "```\n",
       "\n",
       "Return the status of the most recent dual solution of the solver (i.e., the MathOptInterface model attribute `DualStatus`).\n"
      ],
      "text/plain": [
       "\u001b[36m  dual_status(model::Model)\u001b[39m\n",
       "\n",
       "  Return the status of the most recent dual solution of the solver (i.e., the\n",
       "  MathOptInterface model attribute \u001b[36mDualStatus\u001b[39m)."
      ]
     },
     "execution_count": 19,
     "metadata": {},
     "output_type": "execute_result"
    }
   ],
   "source": [
    "? dual_status()"
   ]
  },
  {
   "cell_type": "code",
   "execution_count": 23,
   "metadata": {},
   "outputs": [
    {
     "data": {
      "text/plain": [
       "FEASIBLE_POINT::ResultStatusCode = 1"
      ]
     },
     "execution_count": 23,
     "metadata": {},
     "output_type": "execute_result"
    }
   ],
   "source": [
    "primal_status(model)"
   ]
  },
  {
   "cell_type": "code",
   "execution_count": 27,
   "metadata": {},
   "outputs": [
    {
     "name": "stdout",
     "output_type": "stream",
     "text": [
      "FEASIBLE_POINT\n"
     ]
    }
   ],
   "source": [
    "println(dual_status(model))"
   ]
  },
  {
   "cell_type": "markdown",
   "metadata": {},
   "source": [
    "Note that the primal and dual status only inform that the primal and dual solutions are feasible and it is only because we verified that the termination status is `OPTIMAL` that we can conclude that they form an optimal solution.\n",
    "\n",
    "Now we will see:\n",
    "- How to query the objective value?\n",
    "- How to query the primal result values of the `x` and `y` variables?"
   ]
  },
  {
   "cell_type": "code",
   "execution_count": 34,
   "metadata": {},
   "outputs": [
    {
     "data": {
      "text/latex": [
       "\\begin{verbatim}\n",
       "objective_value(model::Model)\n",
       "\\end{verbatim}\n",
       "Return the objective value after a call to \\texttt{optimize!(model)}.\n",
       "\n"
      ],
      "text/markdown": [
       "```\n",
       "objective_value(model::Model)\n",
       "```\n",
       "\n",
       "Return the objective value after a call to `optimize!(model)`.\n"
      ],
      "text/plain": [
       "\u001b[36m  objective_value(model::Model)\u001b[39m\n",
       "\n",
       "  Return the objective value after a call to \u001b[36moptimize!(model)\u001b[39m."
      ]
     },
     "execution_count": 34,
     "metadata": {},
     "output_type": "execute_result"
    }
   ],
   "source": [
    "? objective_value()"
   ]
  },
  {
   "cell_type": "code",
   "execution_count": 35,
   "metadata": {},
   "outputs": [
    {
     "data": {
      "text/latex": [
       "\\begin{verbatim}\n",
       "value(con_ref::ConstraintRef)\n",
       "\\end{verbatim}\n",
       "Get the primal value of this constraint in the result returned by a solver. That is, if \\texttt{con\\_ref} is the reference of a constraint \\texttt{func}-in-\\texttt{set}, it returns the value of \\texttt{func} evaluated at the value of the variables (given by \\href{@ref}{\\texttt{value(::VariableRef)}}). Use \\href{@ref}{\\texttt{has\\_values}} to check if a result exists before asking for values.\n",
       "\n",
       "\\subsection{Note}\n",
       "For scalar contraints, the constant is moved to the \\texttt{set} so it is not taken into account in the primal value of the constraint. For instance, the constraint \\texttt{@constraint(model, 2x + 3y + 1 == 5)} is transformed into \\texttt{2x + 3y}-in-\\texttt{MOI.EqualTo(4)} so the value returned by this function is the evaluation of \\texttt{2x + 3y}. ```\n",
       "\n",
       "\\rule{\\textwidth}{1pt}\n",
       "\\begin{verbatim}\n",
       "value(v::VariableRef)\n",
       "\\end{verbatim}\n",
       "Get the value of this variable in the result returned by a solver. Use \\href{@ref}{\\texttt{has\\_values}} to check if a result exists before asking for values.\n",
       "\n",
       "\\rule{\\textwidth}{1pt}\n",
       "\\begin{verbatim}\n",
       "value(ex::GenericAffExpr, var_value::Function)\n",
       "\\end{verbatim}\n",
       "Evaluate \\texttt{ex} using \\texttt{var\\_value(v)} as the value for each variable \\texttt{v}.\n",
       "\n",
       "\\rule{\\textwidth}{1pt}\n",
       "\\begin{verbatim}\n",
       "value(v::GenericAffExpr)\n",
       "\\end{verbatim}\n",
       "Evaluate an \\texttt{GenericAffExpr} given the result returned by a solver. Replaces \\texttt{getvalue} for most use cases.\n",
       "\n",
       "\\rule{\\textwidth}{1pt}\n",
       "\\begin{verbatim}\n",
       "value(p::NonlinearParameter)\n",
       "\\end{verbatim}\n",
       "Return the current value stored in the nonlinear parameter \\texttt{p}.\n",
       "\n",
       "\\section{Example}\n",
       "\\begin{verbatim}\n",
       "model = Model()\n",
       "@NLparameter(model, p == 10)\n",
       "value(p)\n",
       "\n",
       "# output\n",
       "10.0\n",
       "\\end{verbatim}\n",
       "\\rule{\\textwidth}{1pt}\n",
       "\\begin{verbatim}\n",
       "value(ex::NonlinearExpression, var_value::Function)\n",
       "\\end{verbatim}\n",
       "Evaluate \\texttt{ex} using \\texttt{var\\_value(v)} as the value for each variable \\texttt{v}.\n",
       "\n",
       "\\rule{\\textwidth}{1pt}\n",
       "\\begin{verbatim}\n",
       "value(ex::NonlinearExpression)\n",
       "\\end{verbatim}\n",
       "Evaluate \\texttt{ex} using \\texttt{value} as the value for each variable \\texttt{v}.\n",
       "\n"
      ],
      "text/markdown": [
       "```\n",
       "value(con_ref::ConstraintRef)\n",
       "```\n",
       "\n",
       "Get the primal value of this constraint in the result returned by a solver. That is, if `con_ref` is the reference of a constraint `func`-in-`set`, it returns the value of `func` evaluated at the value of the variables (given by [`value(::VariableRef)`](@ref)). Use [`has_values`](@ref) to check if a result exists before asking for values.\n",
       "\n",
       "## Note\n",
       "\n",
       "For scalar contraints, the constant is moved to the `set` so it is not taken into account in the primal value of the constraint. For instance, the constraint `@constraint(model, 2x + 3y + 1 == 5)` is transformed into `2x + 3y`-in-`MOI.EqualTo(4)` so the value returned by this function is the evaluation of `2x + 3y`. ```\n",
       "\n",
       "---\n",
       "\n",
       "```\n",
       "value(v::VariableRef)\n",
       "```\n",
       "\n",
       "Get the value of this variable in the result returned by a solver. Use [`has_values`](@ref) to check if a result exists before asking for values.\n",
       "\n",
       "---\n",
       "\n",
       "```\n",
       "value(ex::GenericAffExpr, var_value::Function)\n",
       "```\n",
       "\n",
       "Evaluate `ex` using `var_value(v)` as the value for each variable `v`.\n",
       "\n",
       "---\n",
       "\n",
       "```\n",
       "value(v::GenericAffExpr)\n",
       "```\n",
       "\n",
       "Evaluate an `GenericAffExpr` given the result returned by a solver. Replaces `getvalue` for most use cases.\n",
       "\n",
       "---\n",
       "\n",
       "```\n",
       "value(p::NonlinearParameter)\n",
       "```\n",
       "\n",
       "Return the current value stored in the nonlinear parameter `p`.\n",
       "\n",
       "# Example\n",
       "\n",
       "```jldoctest\n",
       "model = Model()\n",
       "@NLparameter(model, p == 10)\n",
       "value(p)\n",
       "\n",
       "# output\n",
       "10.0\n",
       "```\n",
       "\n",
       "---\n",
       "\n",
       "```\n",
       "value(ex::NonlinearExpression, var_value::Function)\n",
       "```\n",
       "\n",
       "Evaluate `ex` using `var_value(v)` as the value for each variable `v`.\n",
       "\n",
       "---\n",
       "\n",
       "```\n",
       "value(ex::NonlinearExpression)\n",
       "```\n",
       "\n",
       "Evaluate `ex` using `value` as the value for each variable `v`.\n"
      ],
      "text/plain": [
       "\u001b[36m  value(con_ref::ConstraintRef)\u001b[39m\n",
       "\n",
       "  Get the primal value of this constraint in the result returned by a solver.\n",
       "  That is, if \u001b[36mcon_ref\u001b[39m is the reference of a constraint \u001b[36mfunc\u001b[39m-in-\u001b[36mset\u001b[39m, it returns\n",
       "  the value of \u001b[36mfunc\u001b[39m evaluated at the value of the variables (given by\n",
       "  \u001b[36mvalue(::VariableRef)\u001b[39m). Use \u001b[36mhas_values\u001b[39m to check if a result exists before\n",
       "  asking for values.\n",
       "\n",
       "\u001b[1m  Note\u001b[22m\n",
       "\u001b[1m  ======\u001b[22m\n",
       "\n",
       "  For scalar contraints, the constant is moved to the \u001b[36mset\u001b[39m so it is not taken\n",
       "  into account in the primal value of the constraint. For instance, the\n",
       "  constraint \u001b[36m@constraint(model, 2x + 3y + 1 == 5)\u001b[39m is transformed into \u001b[36m2x +\n",
       "  3y\u001b[39m-in-\u001b[36mMOI.EqualTo(4)\u001b[39m so the value returned by this function is the\n",
       "  evaluation of \u001b[36m2x + 3y\u001b[39m. ```\n",
       "\n",
       "  ────────────────────────────────────────────────────────────────────────────\n",
       "\n",
       "\u001b[36m  value(v::VariableRef)\u001b[39m\n",
       "\n",
       "  Get the value of this variable in the result returned by a solver. Use\n",
       "  \u001b[36mhas_values\u001b[39m to check if a result exists before asking for values.\n",
       "\n",
       "  ────────────────────────────────────────────────────────────────────────────\n",
       "\n",
       "\u001b[36m  value(ex::GenericAffExpr, var_value::Function)\u001b[39m\n",
       "\n",
       "  Evaluate \u001b[36mex\u001b[39m using \u001b[36mvar_value(v)\u001b[39m as the value for each variable \u001b[36mv\u001b[39m.\n",
       "\n",
       "  ────────────────────────────────────────────────────────────────────────────\n",
       "\n",
       "\u001b[36m  value(v::GenericAffExpr)\u001b[39m\n",
       "\n",
       "  Evaluate an \u001b[36mGenericAffExpr\u001b[39m given the result returned by a solver. Replaces\n",
       "  \u001b[36mgetvalue\u001b[39m for most use cases.\n",
       "\n",
       "  ────────────────────────────────────────────────────────────────────────────\n",
       "\n",
       "\u001b[36m  value(p::NonlinearParameter)\u001b[39m\n",
       "\n",
       "  Return the current value stored in the nonlinear parameter \u001b[36mp\u001b[39m.\n",
       "\n",
       "\u001b[1m  Example\u001b[22m\n",
       "\u001b[1m  ≡≡≡≡≡≡≡≡≡\u001b[22m\n",
       "\n",
       "\u001b[36m  model = Model()\u001b[39m\n",
       "\u001b[36m  @NLparameter(model, p == 10)\u001b[39m\n",
       "\u001b[36m  value(p)\u001b[39m\n",
       "\u001b[36m  \u001b[39m\n",
       "\u001b[36m  # output\u001b[39m\n",
       "\u001b[36m  10.0\u001b[39m\n",
       "\n",
       "  ────────────────────────────────────────────────────────────────────────────\n",
       "\n",
       "\u001b[36m  value(ex::NonlinearExpression, var_value::Function)\u001b[39m\n",
       "\n",
       "  Evaluate \u001b[36mex\u001b[39m using \u001b[36mvar_value(v)\u001b[39m as the value for each variable \u001b[36mv\u001b[39m.\n",
       "\n",
       "  ────────────────────────────────────────────────────────────────────────────\n",
       "\n",
       "\u001b[36m  value(ex::NonlinearExpression)\u001b[39m\n",
       "\n",
       "  Evaluate \u001b[36mex\u001b[39m using \u001b[36mvalue\u001b[39m as the value for each variable \u001b[36mv\u001b[39m."
      ]
     },
     "execution_count": 35,
     "metadata": {},
     "output_type": "execute_result"
    }
   ],
   "source": [
    "? value()"
   ]
  },
  {
   "cell_type": "code",
   "execution_count": 33,
   "metadata": {},
   "outputs": [
    {
     "name": "stdout",
     "output_type": "stream",
     "text": [
      "Max value of objective function: 10.6\n",
      "Value of the variable x: 2.0\n",
      "Value of the variable y: 0.2\n"
     ]
    }
   ],
   "source": [
    "println(\"Max value of objective function: \", objective_value(model))\n",
    "println(\"Value of the variable x: \", value(x))\n",
    "println(\"Value of the variable y: \", value(y))"
   ]
  },
  {
   "cell_type": "markdown",
   "metadata": {},
   "source": [
    "## Part 2.7 Duality\n",
    "We will now some simple syntax to access dual information of the primal LP. We can the value of the dual variable associated with the constraint `con`, which we bound to a Julia variable when defining the constraint, for more info refer this [link](http://www.juliaopt.org/JuMP.jl/v0.19.0/constraints/#constraint_duality-1)."
   ]
  },
  {
   "cell_type": "code",
   "execution_count": 1,
   "metadata": {},
   "outputs": [
    {
     "data": {
      "text/latex": [
       "No documentation found.\n",
       "\n",
       "Binding \\texttt{has\\_dual} does not exist.\n",
       "\n"
      ],
      "text/markdown": [
       "No documentation found.\n",
       "\n",
       "Binding `has_dual` does not exist.\n"
      ],
      "text/plain": [
       "  No documentation found.\n",
       "\n",
       "  Binding \u001b[36mhas_dual\u001b[39m does not exist."
      ]
     },
     "execution_count": 1,
     "metadata": {},
     "output_type": "execute_result"
    }
   ],
   "source": [
    "? has_dual()"
   ]
  },
  {
   "cell_type": "code",
   "execution_count": 36,
   "metadata": {},
   "outputs": [
    {
     "data": {
      "text/latex": [
       "\\begin{verbatim}\n",
       "dual(con_ref::ConstraintRef)\n",
       "\\end{verbatim}\n",
       "Get the dual value of this constraint in the result returned by a solver. Use \\texttt{has\\_dual} to check if a result exists before asking for values. See also \\href{@ref}{\\texttt{shadow\\_price}}.\n",
       "\n"
      ],
      "text/markdown": [
       "```\n",
       "dual(con_ref::ConstraintRef)\n",
       "```\n",
       "\n",
       "Get the dual value of this constraint in the result returned by a solver. Use `has_dual` to check if a result exists before asking for values. See also [`shadow_price`](@ref).\n"
      ],
      "text/plain": [
       "\u001b[36m  dual(con_ref::ConstraintRef)\u001b[39m\n",
       "\n",
       "  Get the dual value of this constraint in the result returned by a solver.\n",
       "  Use \u001b[36mhas_dual\u001b[39m to check if a result exists before asking for values. See also\n",
       "  \u001b[36mshadow_price\u001b[39m."
      ]
     },
     "execution_count": 36,
     "metadata": {},
     "output_type": "execute_result"
    }
   ],
   "source": [
    "? dual()"
   ]
  },
  {
   "cell_type": "code",
   "execution_count": 37,
   "metadata": {},
   "outputs": [
    {
     "data": {
      "text/plain": [
       "-0.6"
      ]
     },
     "execution_count": 37,
     "metadata": {},
     "output_type": "execute_result"
    }
   ],
   "source": [
    "dual(con)"
   ]
  },
  {
   "cell_type": "code",
   "execution_count": 42,
   "metadata": {},
   "outputs": [
    {
     "name": "stdout",
     "output_type": "stream",
     "text": [
      "x <= 2.0\n",
      "-4.4\n"
     ]
    }
   ],
   "source": [
    "# To query the dual variables associated with the variable bounds, things are a little trickier \n",
    "# as we first need to obtain a reference to the constraint:\n",
    "x_upper = UpperBoundRef(x)\n",
    "println(\"Reference to the upper bound constraint on varible x: \", x_upper)\n",
    "println(dual(x_upper))"
   ]
  },
  {
   "cell_type": "code",
   "execution_count": 43,
   "metadata": {},
   "outputs": [
    {
     "name": "stdout",
     "output_type": "stream",
     "text": [
      "Decision Varible >= 0.0\n",
      "0.0\n"
     ]
    }
   ],
   "source": [
    "y_lower = LowerBoundRef(y)\n",
    "println(y_lower)\n",
    "println(dual(y_lower))"
   ]
  }
 ],
 "metadata": {
  "kernelspec": {
   "display_name": "Julia 1.2.0",
   "language": "julia",
   "name": "julia-1.2"
  },
  "language_info": {
   "file_extension": ".jl",
   "mimetype": "application/julia",
   "name": "julia",
   "version": "1.2.0"
  }
 },
 "nbformat": 4,
 "nbformat_minor": 2
}
