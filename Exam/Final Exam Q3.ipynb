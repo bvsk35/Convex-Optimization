{
 "cells": [
  {
   "cell_type": "markdown",
   "metadata": {},
   "source": [
    "# Import required packages"
   ]
  },
  {
   "cell_type": "code",
   "execution_count": 13,
   "metadata": {},
   "outputs": [],
   "source": [
    "# Optimization Packages\n",
    "using JuMP\n",
    "using SCS\n",
    "using GLPK\n",
    "using Gurobi"
   ]
  },
  {
   "cell_type": "code",
   "execution_count": 14,
   "metadata": {},
   "outputs": [],
   "source": [
    "# Linear Algebra packages\n",
    "using LinearAlgebra\n",
    "using SparseArrays"
   ]
  },
  {
   "cell_type": "markdown",
   "metadata": {},
   "source": [
    "# Part 3\n",
    "Semi Definite Program\n",
    "The problem at our hands is the following, we have an asymtotically stable LTI system. \n",
    "$$\n",
    "\\dot{x} = Ax + Dw \\\\\n",
    "y = Cx\n",
    "$$\n",
    "where, $$\n",
    "A = \n",
    "\\begin{bmatrix}\n",
    "0 & 1 & 0 \\\\\n",
    "0 & 0 & 1 \\\\\n",
    "-2 & -5.6 & -1 \\\\\n",
    "\\end{bmatrix} \\\\\n",
    "D = \n",
    "\\begin{bmatrix}\n",
    "0  \\\\\n",
    "0  \\\\\n",
    "1 \\\\\n",
    "\\end{bmatrix} \\\\\n",
    "C = \n",
    "\\begin{bmatrix}\n",
    "1 & 2 & 0.5\n",
    "\\end{bmatrix}.\n",
    "$$\n",
    "SDP problem that we are solving is the following\n",
    "$$\n",
    "\\text{minimize} \\:\\:\\: 0 \\\\\n",
    "\\text{subjected to} \\:\\:\\: P \\succ 0 \\\\\n",
    "AP + PA^{T}+DD^{\\ast}\n",
    "$$\n",
    "after solving this we would get value of $P$, using that we want to compute $\\gamma = Trace(CPC^{\\ast})$.\n",
    "\n",
    "## Part 3.1 Creating a Model\n",
    "Models are created with the `Model()` function. The way we create model and use is different from how we use GLPK package. \n",
    "- For discussion on SCS package refer the following [link](https://github.com/JuliaOpt/SCS.jl)."
   ]
  },
  {
   "cell_type": "code",
   "execution_count": 15,
   "metadata": {},
   "outputs": [
    {
     "name": "stdout",
     "output_type": "stream",
     "text": [
      "Academic license - for non-commercial use only\r\n"
     ]
    },
    {
     "data": {
      "text/latex": [
       "$$ \\begin{alignat*}{1}\\min\\quad & 0\\\\\n",
       "\\text{Subject to} \\quad\\end{alignat*}\n",
       " $$"
      ],
      "text/plain": [
       "Feasibility problem with:\n",
       " * 0 linear constraints\n",
       " * 0 variables\n",
       "Solver is Gurobi"
      ]
     },
     "execution_count": 15,
     "metadata": {},
     "output_type": "execute_result"
    }
   ],
   "source": [
    "model = Model(solver=SCSSolver())\n",
    "# model = Model(solver = GurobiSolver(Gurobi.Env(), OutputFlag = 0))"
   ]
  },
  {
   "cell_type": "markdown",
   "metadata": {},
   "source": [
    "## Part 3.2 Declaring Variables\n",
    "We will create requried variables based on the above problem.\n",
    "- For how to create JuMP variables [link](http://www.juliaopt.org/JuMP.jl/v0.19.0/variables/#Variables-1).\n",
    "- For discussion on multidimensional arrays refer the following [link1](https://docs.julialang.org/en/v1/manual/arrays/), [link2](https://stanford.edu/class/ee103/julia_slides/julia_matrices_slides.pdf).\n",
    "- For discussion on how to add SDP constraints refer the following [link0](http://www.juliaopt.org/JuMP.jl/v0.19.0/constraints/), [link1](http://www.juliaopt.org/JuMP.jl/v0.19.0/extensions/#Adding-add_constraint-methods-1), [link2](http://www.juliaopt.org/JuMP.jl/v0.12/refexpr.html).\n",
    "\n",
    "Note that we can't add positive definite constraint in the optimization problem. Hence we will compute value $P$ such that it is greater than some positive constant $e$ i.e., we want $P \\succeq e \\implies P-e \\succeq 0$. Since $e$ is a matrix with we have "
   ]
  },
  {
   "cell_type": "code",
   "execution_count": 16,
   "metadata": {},
   "outputs": [
    {
     "name": "stdout",
     "output_type": "stream",
     "text": [
      "Size of the P matrix should be: (3, 3)\n"
     ]
    }
   ],
   "source": [
    "# Some constants that we need\n",
    "A = [[0 1 0]; [0 0 1]; [-2 -5.6 -1]]\n",
    "D = [[0]; [0]; [1]]\n",
    "C = [1 2 0.5]\n",
    "e = 1e-9*ones(3, 3) \n",
    "# e = I(3)\n",
    "println(\"Size of the P matrix should be: \", size(A))"
   ]
  },
  {
   "cell_type": "code",
   "execution_count": 17,
   "metadata": {},
   "outputs": [
    {
     "data": {
      "text/latex": [
       "$$ P_{i,j} \\quad\\forall i \\in \\{1,2,3\\}, j \\in \\{1,2,3\\} $$"
      ],
      "text/plain": [
       "3×3 Array{Variable,2}:\n",
       " P[1,1]  P[1,2]  P[1,3]\n",
       " P[2,1]  P[2,2]  P[2,3]\n",
       " P[3,1]  P[3,2]  P[3,3]"
      ]
     },
     "execution_count": 17,
     "metadata": {},
     "output_type": "execute_result"
    }
   ],
   "source": [
    "@variable(model, P[1:3, 1:3])"
   ]
  },
  {
   "cell_type": "markdown",
   "metadata": {},
   "source": [
    "## Part 3.3 Setting the Objective\n",
    "Next we'll set our objective on the `model` we defined earlier. The objective sense, `Max` or `Min`, should be provided as the second argument. "
   ]
  },
  {
   "cell_type": "code",
   "execution_count": 18,
   "metadata": {},
   "outputs": [
    {
     "data": {
      "text/latex": [
       "$$ 0 $$"
      ],
      "text/plain": [
       "0"
      ]
     },
     "execution_count": 18,
     "metadata": {},
     "output_type": "execute_result"
    }
   ],
   "source": [
    "@objective(model, Min, 0)"
   ]
  },
  {
   "cell_type": "markdown",
   "metadata": {},
   "source": [
    "## Part 3.4 Setting the Constraints\n",
    "Adding constraints is a lot like setting the objective. Here we create a less-than-or-equal-to constraint using `<=`, but we can also create equality constraints using `==` and greater-than-or-equal-to constraints with `>=`."
   ]
  },
  {
   "cell_type": "code",
   "execution_count": 19,
   "metadata": {},
   "outputs": [
    {
     "data": {
      "text/plain": [
       "3×3 Array{ConstraintRef{Model,JuMP.GenericRangeConstraint{JuMP.GenericAffExpr{Float64,Variable}}},2}:\n",
       " P[2,1] + P[1,2] == 0                           …  P[2,3] - 2 P[1,1] - 5.6 P[1,2] - P[1,3] == 0                   \n",
       " P[3,1] + P[2,2] == 0                              P[3,3] - 2 P[2,1] - 5.6 P[2,2] - P[2,3] == 0                   \n",
       " -2 P[1,1] - 5.6 P[2,1] - P[3,1] + P[3,2] == 0     -2 P[1,3] - 5.6 P[2,3] - 2 P[3,3] - 2 P[3,1] - 5.6 P[3,2] == -1"
      ]
     },
     "execution_count": 19,
     "metadata": {},
     "output_type": "execute_result"
    }
   ],
   "source": [
    "@constraint(model, con_1, A*P + P*A' + D*D' .== 0)"
   ]
  },
  {
   "cell_type": "code",
   "execution_count": 20,
   "metadata": {},
   "outputs": [
    {
     "data": {
      "text/plain": [
       " P[1,1]  P[1,2]  P[1,3]\n",
       " P[2,1]  P[2,2]  P[2,3] is semidefinite\n",
       " P[3,1]  P[3,2]  P[3,3]"
      ]
     },
     "execution_count": 20,
     "metadata": {},
     "output_type": "execute_result"
    }
   ],
   "source": [
    "# Both are valid ways of creating PSD constraints\n",
    "# @constraint(model, (P-e) in PSDCone())\n",
    "# @SDconstraint(model, P >= e)\n",
    "@constraint(model, P in PSDCone())"
   ]
  },
  {
   "cell_type": "markdown",
   "metadata": {},
   "source": [
    "## Part 3.5 Optimizing the objective\n",
    "Models are solved with the `JuMP.optimize!` function. After the call to `JuMP.optimize!` has finished, we need to query what happened. The solve could terminate for a number of reasons. First, the solver might have found the optimal solution or proved that the problem is infeasible. However, it might also have run into numerical difficulties or terminated due to a setting such as a time limit. We can ask the solver why it stopped using the `JuMP.termination_status` function."
   ]
  },
  {
   "cell_type": "code",
   "execution_count": 21,
   "metadata": {},
   "outputs": [
    {
     "ename": "ErrorException",
     "evalue": "Cone type SDP not supported",
     "output_type": "error",
     "traceback": [
      "Cone type SDP not supported",
      "",
      "Stacktrace:",
      " [1] error(::String) at .\\error.jl:33",
      " [2] loadproblem!(::MathProgBase.SolverInterface.LPQPtoConicBridge, ::Array{Float64,1}, ::SparseMatrixCSC{Float64,Int64}, ::Array{Float64,1}, ::Array{Any,1}, ::Array{Any,1}) at C:\\Users\\BV SAMEER KUMAR\\.julia\\packages\\MathProgBase\\rVlFR\\src\\SolverInterface\\lpqp_to_conic.jl:54",
      " [3] #build#108(::Bool, ::Bool, ::JuMP.ProblemTraits, ::typeof(JuMP.build), ::Model) at C:\\Users\\BV SAMEER KUMAR\\.julia\\packages\\JuMP\\I7whV\\src\\solvers.jl:326",
      " [4] #build at .\\none:0 [inlined]",
      " [5] #solve#105(::Bool, ::Bool, ::Bool, ::Base.Iterators.Pairs{Union{},Union{},Tuple{},NamedTuple{(),Tuple{}}}, ::typeof(solve), ::Model) at C:\\Users\\BV SAMEER KUMAR\\.julia\\packages\\JuMP\\I7whV\\src\\solvers.jl:168",
      " [6] solve(::Model) at C:\\Users\\BV SAMEER KUMAR\\.julia\\packages\\JuMP\\I7whV\\src\\solvers.jl:150",
      " [7] top-level scope at In[21]:1"
     ]
    }
   ],
   "source": [
    "solve(model)"
   ]
  },
  {
   "cell_type": "markdown",
   "metadata": {},
   "source": [
    "## Part 3.6 Results"
   ]
  },
  {
   "cell_type": "code",
   "execution_count": 10,
   "metadata": {},
   "outputs": [
    {
     "name": "stdout",
     "output_type": "stream",
     "text": [
      "Optimal value of P such that is positive definite is:\n",
      "[0.0694439866695286 6.637551341706084e-8 -0.13888881555687946; 6.637551341630075e-8 0.13888866971827424 1.447193690694444e-7; -0.13888881555687946 1.447193690827456e-7 0.7777777219537352]\n"
     ]
    }
   ],
   "source": [
    "output = getvalue(P)\n",
    "println(\"Optimal value of P such that is positive definite is:\", \"\\n\", output)"
   ]
  },
  {
   "cell_type": "code",
   "execution_count": 11,
   "metadata": {},
   "outputs": [
    {
     "data": {
      "text/plain": [
       "Eigen{Float64,Float64,Array{Float64,2},Array{Float64,1}}\n",
       "eigenvalues:\n",
       "3-element Array{Float64,1}:\n",
       " 0.0431844182924201 \n",
       " 0.13888866971833755\n",
       " 0.8040372903307806 \n",
       "eigenvectors:\n",
       "3×3 Array{Float64,2}:\n",
       " -0.982592     9.81918e-7  -0.185778  \n",
       "  9.62399e-7   1.0          1.95248e-7\n",
       " -0.185778    -1.3057e-8    0.982592  "
      ]
     },
     "execution_count": 11,
     "metadata": {},
     "output_type": "execute_result"
    }
   ],
   "source": [
    "eigen(output)"
   ]
  },
  {
   "cell_type": "code",
   "execution_count": 12,
   "metadata": {},
   "outputs": [
    {
     "name": "stdout",
     "output_type": "stream",
     "text": [
      "Gamma: 0.6805548354149716"
     ]
    }
   ],
   "source": [
    "gamma = tr(C * output * C')\n",
    "print(\"Gamma: \", gamma)"
   ]
  }
 ],
 "metadata": {
  "kernelspec": {
   "display_name": "Julia 1.2.0",
   "language": "julia",
   "name": "julia-1.2"
  },
  "language_info": {
   "file_extension": ".jl",
   "mimetype": "application/julia",
   "name": "julia",
   "version": "1.2.0"
  }
 },
 "nbformat": 4,
 "nbformat_minor": 2
}
