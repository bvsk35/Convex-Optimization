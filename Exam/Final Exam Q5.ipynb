{
 "cells": [
  {
   "cell_type": "markdown",
   "metadata": {},
   "source": [
    "# Import required packages"
   ]
  },
  {
   "cell_type": "code",
   "execution_count": 1,
   "metadata": {},
   "outputs": [],
   "source": [
    "# Optimization Packages\n",
    "using JuMP\n",
    "using SCS\n",
    "using GLPK"
   ]
  },
  {
   "cell_type": "code",
   "execution_count": 2,
   "metadata": {},
   "outputs": [],
   "source": [
    "# Linear Algebra packages\n",
    "using LinearAlgebra\n",
    "using SparseArrays"
   ]
  },
  {
   "cell_type": "code",
   "execution_count": 3,
   "metadata": {},
   "outputs": [
    {
     "name": "stdout",
     "output_type": "stream",
     "text": [
      "\u001b[32m\u001b[1m    Status\u001b[22m\u001b[39m `C:\\Users\\BV SAMEER KUMAR\\Documents\\JupterNotebookCodes\\Julia2\\Project.toml`\n",
      " \u001b[90m [4076af6c]\u001b[39m\u001b[37m JuMP v0.20.1\u001b[39m\n"
     ]
    }
   ],
   "source": [
    "using Pkg\n",
    "Pkg.status(\"JuMP\")"
   ]
  },
  {
   "cell_type": "markdown",
   "metadata": {},
   "source": [
    "# Part 2 Creating Model \n",
    "## Part 2.1 Creating a Model\n",
    "Models are created with the `Model()` function. The `with_optimizer` syntax is used to specify the optimizer to be used:"
   ]
  },
  {
   "cell_type": "code",
   "execution_count": 4,
   "metadata": {},
   "outputs": [],
   "source": [
    "model_1 = Model(with_optimizer(GLPK.Optimizer))\n",
    "model_2 = Model(with_optimizer(GLPK.Optimizer))\n",
    "model_3 = Model(with_optimizer(GLPK.Optimizer))\n",
    "model_4 = Model(with_optimizer(GLPK.Optimizer))\n",
    "model_5 = Model(with_optimizer(GLPK.Optimizer))\n",
    "model_6 = Model(with_optimizer(GLPK.Optimizer));"
   ]
  },
  {
   "cell_type": "markdown",
   "metadata": {},
   "source": [
    "## 2.2 Declaring some constants"
   ]
  },
  {
   "cell_type": "code",
   "execution_count": 5,
   "metadata": {},
   "outputs": [],
   "source": [
    "m = 4\n",
    "P1 = [[-0.7430   -0.2438   -0.6233   20.0000]; \n",
    "        [0.1724   -0.9696    0.1737  -10.0000]; \n",
    "        [-0.6467    0.0216    0.7625    2.0000]]\n",
    "\n",
    "P2 = [[-0.9247    0.2152   -0.3140  -10.0000]; \n",
    "        [0.3105    0.9037   -0.2948   10.0000]; \n",
    "        [0.2204   -0.3701   -0.9025    3.0000]]\n",
    "\n",
    "P3 = [[-0.6026   -0.3108   -0.7350    4.0000]; \n",
    "        [-0.5440   -0.5139    0.6633    8.0000]; \n",
    "        [-0.5839    0.7995    0.1406    1.5000]]\n",
    "\n",
    "P4 = [[-0.6700    0.0028   -0.7424  -10.0000]; \n",
    "        [-0.6916    0.3612    0.6255    4.0000]; \n",
    "        [0.2699    0.9325   -0.2400    4.0000]]\n",
    "\n",
    "rho = 0.1*ones(4,1)\n",
    "\n",
    "vhat = [[9.9100   -2.7400    2.2200   -2.1200]; \n",
    "        [-5.0000    3.1400    3.6000    1.0300]];"
   ]
  },
  {
   "cell_type": "code",
   "execution_count": 6,
   "metadata": {},
   "outputs": [],
   "source": [
    "# Camera 1\n",
    "A1 = P1[1:2,1:3]\n",
    "b1 = P1[1:2,4]\n",
    "c1 = P1[3,1:3]\n",
    "d1 = P1[3,4]\n",
    "# Camera 2\n",
    "A2 = P2[1:2,1:3]\n",
    "b2 = P2[1:2,4]\n",
    "c2 = P2[3,1:3]\n",
    "d2 = P2[3,4]\n",
    "# Camera 3\n",
    "A3 = P3[1:2,1:3]\n",
    "b3 = P3[1:2,4]\n",
    "c3 = P3[3,1:3]\n",
    "d3 = P3[3,4]\n",
    "# Camera 4\n",
    "A4 = P4[1:2,1:3]\n",
    "b4 = P4[1:2,4]\n",
    "c4 = P4[3,1:3]\n",
    "d4 = P4[3,4];"
   ]
  },
  {
   "cell_type": "markdown",
   "metadata": {},
   "source": [
    "## Part 2.2 Model 1\n",
    "Go to the link for nice description on how to create JuMP variables [link](http://www.juliaopt.org/JuMP.jl/v0.19.0/variables/#Variables-1)."
   ]
  },
  {
   "cell_type": "code",
   "execution_count": 7,
   "metadata": {},
   "outputs": [
    {
     "data": {
      "text/plain": [
       "3-element Array{VariableRef,1}:\n",
       " x[1]\n",
       " x[2]\n",
       " x[3]"
      ]
     },
     "execution_count": 7,
     "metadata": {},
     "output_type": "execute_result"
    }
   ],
   "source": [
    "@variable(model_1, x[1:3])"
   ]
  },
  {
   "cell_type": "code",
   "execution_count": 8,
   "metadata": {},
   "outputs": [
    {
     "data": {
      "text/latex": [
       "$$ x_{1} $$"
      ],
      "text/plain": [
       "x[1]"
      ]
     },
     "execution_count": 8,
     "metadata": {},
     "output_type": "execute_result"
    }
   ],
   "source": [
    "@objective(model_1, Min, x[1])"
   ]
  },
  {
   "cell_type": "code",
   "execution_count": 9,
   "metadata": {},
   "outputs": [
    {
     "data": {
      "text/plain": [
       "2-element Array{ConstraintRef{Model,MathOptInterface.ConstraintIndex{MathOptInterface.ScalarAffineFunction{Float64},MathOptInterface.LessThan{Float64}},ScalarShape},1}:\n",
       " 5.698132000000001 x[1] - 0.458936 x[2] - 8.2178 x[3] <= -0.0799999999999983             \n",
       " -3.0287650000000004 x[1] - 0.86268 x[2] + 3.9480750000000002 x[3] <= 0.09999999999999964"
      ]
     },
     "execution_count": 9,
     "metadata": {},
     "output_type": "execute_result"
    }
   ],
   "source": [
    "# Constraints for Camera 1\n",
    "@constraint(model_1, (vhat[:,1].-rho[1]/2).*(dot(c1,x)+d1) .<= A1*x + b1)\n",
    "@constraint(model_1, A1*x + b1 .<= (vhat[:,1].+rho[1]/2).*(dot(c1,x) + d1))"
   ]
  },
  {
   "cell_type": "code",
   "execution_count": 10,
   "metadata": {},
   "outputs": [
    {
     "data": {
      "text/plain": [
       "2-element Array{ConstraintRef{Model,MathOptInterface.ConstraintIndex{MathOptInterface.ScalarAffineFunction{Float64},MathOptInterface.LessThan{Float64}},ScalarShape},1}:\n",
       " -0.3318239999999999 x[1] - 0.7803690000000001 x[2] - 2.741725 x[3] <= 1.9299999999999997\n",
       " -0.39257600000000004 x[1] + 2.084319 x[2] + 2.584175 x[3] <= -0.4299999999999997        "
      ]
     },
     "execution_count": 10,
     "metadata": {},
     "output_type": "execute_result"
    }
   ],
   "source": [
    "# Constraints for Camera 2\n",
    "@constraint(model_1, (vhat[:,2].-rho[2]/2).*(dot(c2,x)+d2) .<= A2*x + b2)\n",
    "@constraint(model_1, A2*x + b2 .<= (vhat[:,2].+rho[2]/2).*(dot(c2,x) + d2))"
   ]
  },
  {
   "cell_type": "code",
   "execution_count": 11,
   "metadata": {},
   "outputs": [
    {
     "data": {
      "text/plain": [
       "2-element Array{ConstraintRef{Model,MathOptInterface.ConstraintIndex{MathOptInterface.ScalarAffineFunction{Float64},MathOptInterface.LessThan{Float64}},ScalarShape},1}:\n",
       " 0.722853 x[1] - 2.125665 x[2] - 1.054162 x[3] <= -0.5949999999999998                               \n",
       " 1.5872349999999997 x[1] - 3.4320749999999998 x[2] + 0.15010999999999997 x[3] <= -2.5250000000000004"
      ]
     },
     "execution_count": 11,
     "metadata": {},
     "output_type": "execute_result"
    }
   ],
   "source": [
    "# Constraints for Camera 3\n",
    "@constraint(model_1, (vhat[:,3].-rho[3]/2).*(dot(c3,x)+d3) .<= A3*x + b3)\n",
    "@constraint(model_1, A3*x + b3 .<= (vhat[:,3].+rho[3]/2).*(dot(c3,x) + d3))"
   ]
  },
  {
   "cell_type": "code",
   "execution_count": 12,
   "metadata": {},
   "outputs": [
    {
     "data": {
      "text/plain": [
       "2-element Array{ConstraintRef{Model,MathOptInterface.ConstraintIndex{MathOptInterface.ScalarAffineFunction{Float64},MathOptInterface.LessThan{Float64}},ScalarShape},1}:\n",
       " -0.11130700000000004 x[1] + 1.933075 x[2] - 1.2392 x[3] <= 1.7199999999999989           \n",
       " -0.983092 x[1] - 0.6459000000000001 x[2] + 0.8846999999999999 x[3] <= 0.3200000000000003"
      ]
     },
     "execution_count": 12,
     "metadata": {},
     "output_type": "execute_result"
    }
   ],
   "source": [
    "# Constraints for Camera 4\n",
    "@constraint(model_1, (vhat[:,4].-rho[4]/2).*(dot(c4,x)+d4) .<= A4*x + b4)\n",
    "@constraint(model_1, A4*x + b4 .<= (vhat[:,4].+rho[4]/2).*(dot(c4,x) + d4))"
   ]
  },
  {
   "cell_type": "code",
   "execution_count": 13,
   "metadata": {},
   "outputs": [
    {
     "name": "stdout",
     "output_type": "stream",
     "text": [
      "Starting to optimize Model 1.....\n",
      "Termation Status of the model: OPTIMAL\n"
     ]
    }
   ],
   "source": [
    "println(\"Starting to optimize Model 1.....\")\n",
    "optimize!(model_1)\n",
    "println(\"Termation Status of the model: \", termination_status(model_1))"
   ]
  },
  {
   "cell_type": "code",
   "execution_count": 14,
   "metadata": {},
   "outputs": [
    {
     "name": "stdout",
     "output_type": "stream",
     "text": [
      "Max value of objective function: -0.9956131400879996\n",
      "Value of the variable x: [-0.9956131400879996, 0.3110104348932551, -0.6719618369714886]\n",
      "Hence value of l1 is -0.9956131400879996\n"
     ]
    }
   ],
   "source": [
    "println(\"Max value of objective function: \", objective_value(model_1))\n",
    "println(\"Value of the variable x: \", value.(x))\n",
    "println(\"Hence value of l1 is \", value.(x[1]))"
   ]
  },
  {
   "cell_type": "markdown",
   "metadata": {},
   "source": [
    "## Part 2.3 Model 2"
   ]
  },
  {
   "cell_type": "code",
   "execution_count": 15,
   "metadata": {},
   "outputs": [
    {
     "data": {
      "text/plain": [
       "3-element Array{VariableRef,1}:\n",
       " x[1]\n",
       " x[2]\n",
       " x[3]"
      ]
     },
     "execution_count": 15,
     "metadata": {},
     "output_type": "execute_result"
    }
   ],
   "source": [
    "@variable(model_2, x[1:3])"
   ]
  },
  {
   "cell_type": "code",
   "execution_count": 16,
   "metadata": {},
   "outputs": [
    {
     "data": {
      "text/latex": [
       "$$ x_{1} $$"
      ],
      "text/plain": [
       "x[1]"
      ]
     },
     "execution_count": 16,
     "metadata": {},
     "output_type": "execute_result"
    }
   ],
   "source": [
    "@objective(model_2, Max, x[1])"
   ]
  },
  {
   "cell_type": "code",
   "execution_count": 17,
   "metadata": {},
   "outputs": [
    {
     "data": {
      "text/plain": [
       "2-element Array{ConstraintRef{Model,MathOptInterface.ConstraintIndex{MathOptInterface.ScalarAffineFunction{Float64},MathOptInterface.LessThan{Float64}},ScalarShape},1}:\n",
       " 5.698132000000001 x[1] - 0.458936 x[2] - 8.2178 x[3] <= -0.0799999999999983             \n",
       " -3.0287650000000004 x[1] - 0.86268 x[2] + 3.9480750000000002 x[3] <= 0.09999999999999964"
      ]
     },
     "execution_count": 17,
     "metadata": {},
     "output_type": "execute_result"
    }
   ],
   "source": [
    "# Constraints for Camera 1\n",
    "@constraint(model_2, (vhat[:,1].-rho[1]/2).*(dot(c1,x)+d1) .<= A1*x + b1)\n",
    "@constraint(model_2, A1*x + b1 .<= (vhat[:,1].+rho[1]/2).*(dot(c1,x) + d1))"
   ]
  },
  {
   "cell_type": "code",
   "execution_count": 18,
   "metadata": {},
   "outputs": [
    {
     "data": {
      "text/plain": [
       "2-element Array{ConstraintRef{Model,MathOptInterface.ConstraintIndex{MathOptInterface.ScalarAffineFunction{Float64},MathOptInterface.LessThan{Float64}},ScalarShape},1}:\n",
       " -0.3318239999999999 x[1] - 0.7803690000000001 x[2] - 2.741725 x[3] <= 1.9299999999999997\n",
       " -0.39257600000000004 x[1] + 2.084319 x[2] + 2.584175 x[3] <= -0.4299999999999997        "
      ]
     },
     "execution_count": 18,
     "metadata": {},
     "output_type": "execute_result"
    }
   ],
   "source": [
    "# Constraints for Camera 2\n",
    "@constraint(model_2, (vhat[:,2].-rho[2]/2).*(dot(c2,x)+d2) .<= A2*x + b2)\n",
    "@constraint(model_2, A2*x + b2 .<= (vhat[:,2].+rho[2]/2).*(dot(c2,x) + d2))"
   ]
  },
  {
   "cell_type": "code",
   "execution_count": 19,
   "metadata": {},
   "outputs": [
    {
     "data": {
      "text/plain": [
       "2-element Array{ConstraintRef{Model,MathOptInterface.ConstraintIndex{MathOptInterface.ScalarAffineFunction{Float64},MathOptInterface.LessThan{Float64}},ScalarShape},1}:\n",
       " 0.722853 x[1] - 2.125665 x[2] - 1.054162 x[3] <= -0.5949999999999998                               \n",
       " 1.5872349999999997 x[1] - 3.4320749999999998 x[2] + 0.15010999999999997 x[3] <= -2.5250000000000004"
      ]
     },
     "execution_count": 19,
     "metadata": {},
     "output_type": "execute_result"
    }
   ],
   "source": [
    "# Constraints for Camera 3\n",
    "@constraint(model_2, (vhat[:,3].-rho[3]/2).*(dot(c3,x)+d3) .<= A3*x + b3)\n",
    "@constraint(model_2, A3*x + b3 .<= (vhat[:,3].+rho[3]/2).*(dot(c3,x) + d3))"
   ]
  },
  {
   "cell_type": "code",
   "execution_count": 20,
   "metadata": {},
   "outputs": [
    {
     "data": {
      "text/plain": [
       "2-element Array{ConstraintRef{Model,MathOptInterface.ConstraintIndex{MathOptInterface.ScalarAffineFunction{Float64},MathOptInterface.LessThan{Float64}},ScalarShape},1}:\n",
       " -0.11130700000000004 x[1] + 1.933075 x[2] - 1.2392 x[3] <= 1.7199999999999989           \n",
       " -0.983092 x[1] - 0.6459000000000001 x[2] + 0.8846999999999999 x[3] <= 0.3200000000000003"
      ]
     },
     "execution_count": 20,
     "metadata": {},
     "output_type": "execute_result"
    }
   ],
   "source": [
    "# Constraints for Camera 4\n",
    "@constraint(model_2, (vhat[:,4].-rho[4]/2).*(dot(c4,x)+d4) .<= A4*x + b4)\n",
    "@constraint(model_2, A4*x + b4 .<= (vhat[:,4].+rho[4]/2).*(dot(c4,x) + d4))"
   ]
  },
  {
   "cell_type": "code",
   "execution_count": 21,
   "metadata": {},
   "outputs": [
    {
     "name": "stdout",
     "output_type": "stream",
     "text": [
      "Starting to optimize Model 2.....\n",
      "Termation Status of the model: OPTIMAL\n"
     ]
    }
   ],
   "source": [
    "println(\"Starting to optimize Model 2.....\")\n",
    "optimize!(model_2)\n",
    "println(\"Termation Status of the model: \", termination_status(model_2))"
   ]
  },
  {
   "cell_type": "code",
   "execution_count": 22,
   "metadata": {},
   "outputs": [
    {
     "name": "stdout",
     "output_type": "stream",
     "text": [
      "Max value of objective function: -0.8245037492559099\n",
      "Value of the variable x: [-0.8245037492559099, 0.3290148883401633, -0.5803412074460756]\n",
      "Hence value of u1 is -0.8245037492559099\n"
     ]
    }
   ],
   "source": [
    "println(\"Max value of objective function: \", objective_value(model_2))\n",
    "println(\"Value of the variable x: \", value.(x))\n",
    "println(\"Hence value of u1 is \", value.(x[1]))"
   ]
  },
  {
   "cell_type": "markdown",
   "metadata": {},
   "source": [
    "## Part 2.4 Model 3"
   ]
  },
  {
   "cell_type": "code",
   "execution_count": 23,
   "metadata": {},
   "outputs": [
    {
     "data": {
      "text/plain": [
       "3-element Array{VariableRef,1}:\n",
       " x[1]\n",
       " x[2]\n",
       " x[3]"
      ]
     },
     "execution_count": 23,
     "metadata": {},
     "output_type": "execute_result"
    }
   ],
   "source": [
    "@variable(model_3, x[1:3])"
   ]
  },
  {
   "cell_type": "code",
   "execution_count": 24,
   "metadata": {},
   "outputs": [
    {
     "data": {
      "text/latex": [
       "$$ x_{2} $$"
      ],
      "text/plain": [
       "x[2]"
      ]
     },
     "execution_count": 24,
     "metadata": {},
     "output_type": "execute_result"
    }
   ],
   "source": [
    "@objective(model_3, Min, x[2])"
   ]
  },
  {
   "cell_type": "code",
   "execution_count": 25,
   "metadata": {},
   "outputs": [
    {
     "data": {
      "text/plain": [
       "2-element Array{ConstraintRef{Model,MathOptInterface.ConstraintIndex{MathOptInterface.ScalarAffineFunction{Float64},MathOptInterface.LessThan{Float64}},ScalarShape},1}:\n",
       " 5.698132000000001 x[1] - 0.458936 x[2] - 8.2178 x[3] <= -0.0799999999999983             \n",
       " -3.0287650000000004 x[1] - 0.86268 x[2] + 3.9480750000000002 x[3] <= 0.09999999999999964"
      ]
     },
     "execution_count": 25,
     "metadata": {},
     "output_type": "execute_result"
    }
   ],
   "source": [
    "# Constraints for Camera 1\n",
    "@constraint(model_3, (vhat[:,1].-rho[1]/2).*(dot(c1,x)+d1) .<= A1*x + b1)\n",
    "@constraint(model_3, A1*x + b1 .<= (vhat[:,1].+rho[1]/2).*(dot(c1,x) + d1))"
   ]
  },
  {
   "cell_type": "code",
   "execution_count": 26,
   "metadata": {},
   "outputs": [
    {
     "data": {
      "text/plain": [
       "2-element Array{ConstraintRef{Model,MathOptInterface.ConstraintIndex{MathOptInterface.ScalarAffineFunction{Float64},MathOptInterface.LessThan{Float64}},ScalarShape},1}:\n",
       " -0.3318239999999999 x[1] - 0.7803690000000001 x[2] - 2.741725 x[3] <= 1.9299999999999997\n",
       " -0.39257600000000004 x[1] + 2.084319 x[2] + 2.584175 x[3] <= -0.4299999999999997        "
      ]
     },
     "execution_count": 26,
     "metadata": {},
     "output_type": "execute_result"
    }
   ],
   "source": [
    "# Constraints for Camera 2\n",
    "@constraint(model_3, (vhat[:,2].-rho[2]/2).*(dot(c2,x)+d2) .<= A2*x + b2)\n",
    "@constraint(model_3, A2*x + b2 .<= (vhat[:,2].+rho[2]/2).*(dot(c2,x) + d2))"
   ]
  },
  {
   "cell_type": "code",
   "execution_count": 27,
   "metadata": {},
   "outputs": [
    {
     "data": {
      "text/plain": [
       "2-element Array{ConstraintRef{Model,MathOptInterface.ConstraintIndex{MathOptInterface.ScalarAffineFunction{Float64},MathOptInterface.LessThan{Float64}},ScalarShape},1}:\n",
       " 0.722853 x[1] - 2.125665 x[2] - 1.054162 x[3] <= -0.5949999999999998                               \n",
       " 1.5872349999999997 x[1] - 3.4320749999999998 x[2] + 0.15010999999999997 x[3] <= -2.5250000000000004"
      ]
     },
     "execution_count": 27,
     "metadata": {},
     "output_type": "execute_result"
    }
   ],
   "source": [
    "# Constraints for Camera 3\n",
    "@constraint(model_3, (vhat[:,3].-rho[3]/2).*(dot(c3,x)+d3) .<= A3*x + b3)\n",
    "@constraint(model_3, A3*x + b3 .<= (vhat[:,3].+rho[3]/2).*(dot(c3,x) + d3))"
   ]
  },
  {
   "cell_type": "code",
   "execution_count": 28,
   "metadata": {},
   "outputs": [
    {
     "data": {
      "text/plain": [
       "2-element Array{ConstraintRef{Model,MathOptInterface.ConstraintIndex{MathOptInterface.ScalarAffineFunction{Float64},MathOptInterface.LessThan{Float64}},ScalarShape},1}:\n",
       " -0.11130700000000004 x[1] + 1.933075 x[2] - 1.2392 x[3] <= 1.7199999999999989           \n",
       " -0.983092 x[1] - 0.6459000000000001 x[2] + 0.8846999999999999 x[3] <= 0.3200000000000003"
      ]
     },
     "execution_count": 28,
     "metadata": {},
     "output_type": "execute_result"
    }
   ],
   "source": [
    "# Constraints for Camera 4\n",
    "@constraint(model_3, (vhat[:,4].-rho[4]/2).*(dot(c4,x)+d4) .<= A4*x + b4)\n",
    "@constraint(model_3, A4*x + b4 .<= (vhat[:,4].+rho[4]/2).*(dot(c4,x) + d4))"
   ]
  },
  {
   "cell_type": "code",
   "execution_count": 29,
   "metadata": {},
   "outputs": [
    {
     "name": "stdout",
     "output_type": "stream",
     "text": [
      "Starting to optimize Model 3.....\n",
      "Termation Status of the model: OPTIMAL\n"
     ]
    }
   ],
   "source": [
    "println(\"Starting to optimize Model 3.....\")\n",
    "optimize!(model_3)\n",
    "println(\"Termation Status of the model: \", termination_status(model_3))"
   ]
  },
  {
   "cell_type": "code",
   "execution_count": 30,
   "metadata": {},
   "outputs": [
    {
     "name": "stdout",
     "output_type": "stream",
     "text": [
      "Max value of objective function: 0.27530820527613903\n",
      "Value of the variable x: [-0.9357151240275203, 0.27530820527613903, -0.6323482545538253]\n",
      "Hence value of l2 is 0.27530820527613903\n"
     ]
    }
   ],
   "source": [
    "println(\"Max value of objective function: \", objective_value(model_3))\n",
    "println(\"Value of the variable x: \", value.(x))\n",
    "println(\"Hence value of l2 is \", value.(x[2]))"
   ]
  },
  {
   "cell_type": "markdown",
   "metadata": {},
   "source": [
    "## Part 2.5 Model 4"
   ]
  },
  {
   "cell_type": "code",
   "execution_count": 31,
   "metadata": {},
   "outputs": [
    {
     "data": {
      "text/plain": [
       "3-element Array{VariableRef,1}:\n",
       " x[1]\n",
       " x[2]\n",
       " x[3]"
      ]
     },
     "execution_count": 31,
     "metadata": {},
     "output_type": "execute_result"
    }
   ],
   "source": [
    "@variable(model_4, x[1:3])"
   ]
  },
  {
   "cell_type": "code",
   "execution_count": 32,
   "metadata": {},
   "outputs": [
    {
     "data": {
      "text/latex": [
       "$$ x_{2} $$"
      ],
      "text/plain": [
       "x[2]"
      ]
     },
     "execution_count": 32,
     "metadata": {},
     "output_type": "execute_result"
    }
   ],
   "source": [
    "@objective(model_4, Max, x[2])"
   ]
  },
  {
   "cell_type": "code",
   "execution_count": 33,
   "metadata": {},
   "outputs": [
    {
     "data": {
      "text/plain": [
       "2-element Array{ConstraintRef{Model,MathOptInterface.ConstraintIndex{MathOptInterface.ScalarAffineFunction{Float64},MathOptInterface.LessThan{Float64}},ScalarShape},1}:\n",
       " 5.698132000000001 x[1] - 0.458936 x[2] - 8.2178 x[3] <= -0.0799999999999983             \n",
       " -3.0287650000000004 x[1] - 0.86268 x[2] + 3.9480750000000002 x[3] <= 0.09999999999999964"
      ]
     },
     "execution_count": 33,
     "metadata": {},
     "output_type": "execute_result"
    }
   ],
   "source": [
    "# Constraints for Camera 1\n",
    "@constraint(model_4, (vhat[:,1].-rho[1]/2).*(dot(c1,x)+d1) .<= A1*x + b1)\n",
    "@constraint(model_4, A1*x + b1 .<= (vhat[:,1].+rho[1]/2).*(dot(c1,x) + d1))"
   ]
  },
  {
   "cell_type": "code",
   "execution_count": 34,
   "metadata": {},
   "outputs": [
    {
     "data": {
      "text/plain": [
       "2-element Array{ConstraintRef{Model,MathOptInterface.ConstraintIndex{MathOptInterface.ScalarAffineFunction{Float64},MathOptInterface.LessThan{Float64}},ScalarShape},1}:\n",
       " -0.3318239999999999 x[1] - 0.7803690000000001 x[2] - 2.741725 x[3] <= 1.9299999999999997\n",
       " -0.39257600000000004 x[1] + 2.084319 x[2] + 2.584175 x[3] <= -0.4299999999999997        "
      ]
     },
     "execution_count": 34,
     "metadata": {},
     "output_type": "execute_result"
    }
   ],
   "source": [
    "# Constraints for Camera 2\n",
    "@constraint(model_4, (vhat[:,2].-rho[2]/2).*(dot(c2,x)+d2) .<= A2*x + b2)\n",
    "@constraint(model_4, A2*x + b2 .<= (vhat[:,2].+rho[2]/2).*(dot(c2,x) + d2))"
   ]
  },
  {
   "cell_type": "code",
   "execution_count": 35,
   "metadata": {},
   "outputs": [
    {
     "data": {
      "text/plain": [
       "2-element Array{ConstraintRef{Model,MathOptInterface.ConstraintIndex{MathOptInterface.ScalarAffineFunction{Float64},MathOptInterface.LessThan{Float64}},ScalarShape},1}:\n",
       " 0.722853 x[1] - 2.125665 x[2] - 1.054162 x[3] <= -0.5949999999999998                               \n",
       " 1.5872349999999997 x[1] - 3.4320749999999998 x[2] + 0.15010999999999997 x[3] <= -2.5250000000000004"
      ]
     },
     "execution_count": 35,
     "metadata": {},
     "output_type": "execute_result"
    }
   ],
   "source": [
    "# Constraints for Camera 3\n",
    "@constraint(model_4, (vhat[:,3].-rho[3]/2).*(dot(c3,x)+d3) .<= A3*x + b3)\n",
    "@constraint(model_4, A3*x + b3 .<= (vhat[:,3].+rho[3]/2).*(dot(c3,x) + d3))"
   ]
  },
  {
   "cell_type": "code",
   "execution_count": 36,
   "metadata": {},
   "outputs": [
    {
     "data": {
      "text/plain": [
       "2-element Array{ConstraintRef{Model,MathOptInterface.ConstraintIndex{MathOptInterface.ScalarAffineFunction{Float64},MathOptInterface.LessThan{Float64}},ScalarShape},1}:\n",
       " -0.11130700000000004 x[1] + 1.933075 x[2] - 1.2392 x[3] <= 1.7199999999999989           \n",
       " -0.983092 x[1] - 0.6459000000000001 x[2] + 0.8846999999999999 x[3] <= 0.3200000000000003"
      ]
     },
     "execution_count": 36,
     "metadata": {},
     "output_type": "execute_result"
    }
   ],
   "source": [
    "# Constraints for Camera 4\n",
    "@constraint(model_4, (vhat[:,4].-rho[4]/2).*(dot(c4,x)+d4) .<= A4*x + b4)\n",
    "@constraint(model_4, A4*x + b4 .<= (vhat[:,4].+rho[4]/2).*(dot(c4,x) + d4))"
   ]
  },
  {
   "cell_type": "code",
   "execution_count": 37,
   "metadata": {},
   "outputs": [
    {
     "name": "stdout",
     "output_type": "stream",
     "text": [
      "Starting to optimize Model 4.....\n",
      "Termation Status of the model: OPTIMAL\n"
     ]
    }
   ],
   "source": [
    "println(\"Starting to optimize Model 4.....\")\n",
    "optimize!(model_4)\n",
    "println(\"Termation Status of the model: \", termination_status(model_4))"
   ]
  },
  {
   "cell_type": "code",
   "execution_count": 38,
   "metadata": {},
   "outputs": [
    {
     "name": "stdout",
     "output_type": "stream",
     "text": [
      "Max value of objective function: 0.37836925050189607\n",
      "Value of the variable x: [-0.8554851028610982, 0.37836925050189607, -0.6015401966111659]\n",
      "Hence value of u2 is 0.37836925050189607\n"
     ]
    }
   ],
   "source": [
    "println(\"Max value of objective function: \", objective_value(model_4))\n",
    "println(\"Value of the variable x: \", value.(x))\n",
    "println(\"Hence value of u2 is \", value.(x[2]))"
   ]
  },
  {
   "cell_type": "markdown",
   "metadata": {},
   "source": [
    "## Part 2.6 Model 5"
   ]
  },
  {
   "cell_type": "code",
   "execution_count": 39,
   "metadata": {},
   "outputs": [
    {
     "data": {
      "text/plain": [
       "3-element Array{VariableRef,1}:\n",
       " x[1]\n",
       " x[2]\n",
       " x[3]"
      ]
     },
     "execution_count": 39,
     "metadata": {},
     "output_type": "execute_result"
    }
   ],
   "source": [
    "@variable(model_5, x[1:3])"
   ]
  },
  {
   "cell_type": "code",
   "execution_count": 40,
   "metadata": {},
   "outputs": [
    {
     "data": {
      "text/latex": [
       "$$ x_{3} $$"
      ],
      "text/plain": [
       "x[3]"
      ]
     },
     "execution_count": 40,
     "metadata": {},
     "output_type": "execute_result"
    }
   ],
   "source": [
    "@objective(model_5, Min, x[3])"
   ]
  },
  {
   "cell_type": "code",
   "execution_count": 41,
   "metadata": {},
   "outputs": [
    {
     "data": {
      "text/plain": [
       "2-element Array{ConstraintRef{Model,MathOptInterface.ConstraintIndex{MathOptInterface.ScalarAffineFunction{Float64},MathOptInterface.LessThan{Float64}},ScalarShape},1}:\n",
       " 5.698132000000001 x[1] - 0.458936 x[2] - 8.2178 x[3] <= -0.0799999999999983             \n",
       " -3.0287650000000004 x[1] - 0.86268 x[2] + 3.9480750000000002 x[3] <= 0.09999999999999964"
      ]
     },
     "execution_count": 41,
     "metadata": {},
     "output_type": "execute_result"
    }
   ],
   "source": [
    "# Constraints for Camera 1\n",
    "@constraint(model_5, (vhat[:,1].-rho[1]/2).*(dot(c1,x)+d1) .<= A1*x + b1)\n",
    "@constraint(model_5, A1*x + b1 .<= (vhat[:,1].+rho[1]/2).*(dot(c1,x) + d1))"
   ]
  },
  {
   "cell_type": "code",
   "execution_count": 42,
   "metadata": {},
   "outputs": [
    {
     "data": {
      "text/plain": [
       "2-element Array{ConstraintRef{Model,MathOptInterface.ConstraintIndex{MathOptInterface.ScalarAffineFunction{Float64},MathOptInterface.LessThan{Float64}},ScalarShape},1}:\n",
       " -0.3318239999999999 x[1] - 0.7803690000000001 x[2] - 2.741725 x[3] <= 1.9299999999999997\n",
       " -0.39257600000000004 x[1] + 2.084319 x[2] + 2.584175 x[3] <= -0.4299999999999997        "
      ]
     },
     "execution_count": 42,
     "metadata": {},
     "output_type": "execute_result"
    }
   ],
   "source": [
    "# Constraints for Camera 2\n",
    "@constraint(model_5, (vhat[:,2].-rho[2]/2).*(dot(c2,x)+d2) .<= A2*x + b2)\n",
    "@constraint(model_5, A2*x + b2 .<= (vhat[:,2].+rho[2]/2).*(dot(c2,x) + d2))"
   ]
  },
  {
   "cell_type": "code",
   "execution_count": 43,
   "metadata": {},
   "outputs": [
    {
     "data": {
      "text/plain": [
       "2-element Array{ConstraintRef{Model,MathOptInterface.ConstraintIndex{MathOptInterface.ScalarAffineFunction{Float64},MathOptInterface.LessThan{Float64}},ScalarShape},1}:\n",
       " 0.722853 x[1] - 2.125665 x[2] - 1.054162 x[3] <= -0.5949999999999998                               \n",
       " 1.5872349999999997 x[1] - 3.4320749999999998 x[2] + 0.15010999999999997 x[3] <= -2.5250000000000004"
      ]
     },
     "execution_count": 43,
     "metadata": {},
     "output_type": "execute_result"
    }
   ],
   "source": [
    "# Constraints for Camera 3\n",
    "@constraint(model_5, (vhat[:,3].-rho[3]/2).*(dot(c3,x)+d3) .<= A3*x + b3)\n",
    "@constraint(model_5, A3*x + b3 .<= (vhat[:,3].+rho[3]/2).*(dot(c3,x) + d3))"
   ]
  },
  {
   "cell_type": "code",
   "execution_count": 44,
   "metadata": {},
   "outputs": [
    {
     "data": {
      "text/plain": [
       "2-element Array{ConstraintRef{Model,MathOptInterface.ConstraintIndex{MathOptInterface.ScalarAffineFunction{Float64},MathOptInterface.LessThan{Float64}},ScalarShape},1}:\n",
       " -0.11130700000000004 x[1] + 1.933075 x[2] - 1.2392 x[3] <= 1.7199999999999989           \n",
       " -0.983092 x[1] - 0.6459000000000001 x[2] + 0.8846999999999999 x[3] <= 0.3200000000000003"
      ]
     },
     "execution_count": 44,
     "metadata": {},
     "output_type": "execute_result"
    }
   ],
   "source": [
    "# Constraints for Camera 4\n",
    "@constraint(model_5, (vhat[:,4].-rho[4]/2).*(dot(c4,x)+d4) .<= A4*x + b4)\n",
    "@constraint(model_5, A4*x + b4 .<= (vhat[:,4].+rho[4]/2).*(dot(c4,x) + d4))"
   ]
  },
  {
   "cell_type": "code",
   "execution_count": 45,
   "metadata": {},
   "outputs": [
    {
     "name": "stdout",
     "output_type": "stream",
     "text": [
      "Starting to optimize Model 5.....\n",
      "Termation Status of the model: OPTIMAL\n"
     ]
    }
   ],
   "source": [
    "println(\"Starting to optimize Model 5.....\")\n",
    "optimize!(model_5)\n",
    "println(\"Termation Status of the model: \", termination_status(model_5))"
   ]
  },
  {
   "cell_type": "code",
   "execution_count": 46,
   "metadata": {},
   "outputs": [
    {
     "name": "stdout",
     "output_type": "stream",
     "text": [
      "Max value of objective function: -0.6789891850297552\n",
      "Value of the variable x: [-0.9672074497243972, 0.32362160480882063, -0.6789891850297552]\n",
      "Hence value of l3 is -0.6789891850297552\n"
     ]
    }
   ],
   "source": [
    "println(\"Max value of objective function: \", objective_value(model_5))\n",
    "println(\"Value of the variable x: \", value.(x))\n",
    "println(\"Hence value of l3 is \", value.(x[3]))"
   ]
  },
  {
   "cell_type": "markdown",
   "metadata": {},
   "source": [
    "## Part 2.7 Model 6"
   ]
  },
  {
   "cell_type": "code",
   "execution_count": 47,
   "metadata": {},
   "outputs": [
    {
     "data": {
      "text/plain": [
       "3-element Array{VariableRef,1}:\n",
       " x[1]\n",
       " x[2]\n",
       " x[3]"
      ]
     },
     "execution_count": 47,
     "metadata": {},
     "output_type": "execute_result"
    }
   ],
   "source": [
    "@variable(model_6, x[1:3])"
   ]
  },
  {
   "cell_type": "code",
   "execution_count": 48,
   "metadata": {},
   "outputs": [
    {
     "data": {
      "text/latex": [
       "$$ x_{3} $$"
      ],
      "text/plain": [
       "x[3]"
      ]
     },
     "execution_count": 48,
     "metadata": {},
     "output_type": "execute_result"
    }
   ],
   "source": [
    "@objective(model_6, Max, x[3])"
   ]
  },
  {
   "cell_type": "code",
   "execution_count": 49,
   "metadata": {},
   "outputs": [
    {
     "data": {
      "text/plain": [
       "2-element Array{ConstraintRef{Model,MathOptInterface.ConstraintIndex{MathOptInterface.ScalarAffineFunction{Float64},MathOptInterface.LessThan{Float64}},ScalarShape},1}:\n",
       " 5.698132000000001 x[1] - 0.458936 x[2] - 8.2178 x[3] <= -0.0799999999999983             \n",
       " -3.0287650000000004 x[1] - 0.86268 x[2] + 3.9480750000000002 x[3] <= 0.09999999999999964"
      ]
     },
     "execution_count": 49,
     "metadata": {},
     "output_type": "execute_result"
    }
   ],
   "source": [
    "# Constraints for Camera 1\n",
    "@constraint(model_6, (vhat[:,1].-rho[1]/2).*(dot(c1,x)+d1) .<= A1*x + b1)\n",
    "@constraint(model_6, A1*x + b1 .<= (vhat[:,1].+rho[1]/2).*(dot(c1,x) + d1))"
   ]
  },
  {
   "cell_type": "code",
   "execution_count": 50,
   "metadata": {},
   "outputs": [
    {
     "data": {
      "text/plain": [
       "2-element Array{ConstraintRef{Model,MathOptInterface.ConstraintIndex{MathOptInterface.ScalarAffineFunction{Float64},MathOptInterface.LessThan{Float64}},ScalarShape},1}:\n",
       " -0.3318239999999999 x[1] - 0.7803690000000001 x[2] - 2.741725 x[3] <= 1.9299999999999997\n",
       " -0.39257600000000004 x[1] + 2.084319 x[2] + 2.584175 x[3] <= -0.4299999999999997        "
      ]
     },
     "execution_count": 50,
     "metadata": {},
     "output_type": "execute_result"
    }
   ],
   "source": [
    "# Constraints for Camera 2\n",
    "@constraint(model_6, (vhat[:,2].-rho[2]/2).*(dot(c2,x)+d2) .<= A2*x + b2)\n",
    "@constraint(model_6, A2*x + b2 .<= (vhat[:,2].+rho[2]/2).*(dot(c2,x) + d2))"
   ]
  },
  {
   "cell_type": "code",
   "execution_count": 51,
   "metadata": {},
   "outputs": [
    {
     "data": {
      "text/plain": [
       "2-element Array{ConstraintRef{Model,MathOptInterface.ConstraintIndex{MathOptInterface.ScalarAffineFunction{Float64},MathOptInterface.LessThan{Float64}},ScalarShape},1}:\n",
       " 0.722853 x[1] - 2.125665 x[2] - 1.054162 x[3] <= -0.5949999999999998                               \n",
       " 1.5872349999999997 x[1] - 3.4320749999999998 x[2] + 0.15010999999999997 x[3] <= -2.5250000000000004"
      ]
     },
     "execution_count": 51,
     "metadata": {},
     "output_type": "execute_result"
    }
   ],
   "source": [
    "# Constraints for Camera 3\n",
    "@constraint(model_6, (vhat[:,3].-rho[3]/2).*(dot(c3,x)+d3) .<= A3*x + b3)\n",
    "@constraint(model_6, A3*x + b3 .<= (vhat[:,3].+rho[3]/2).*(dot(c3,x) + d3))"
   ]
  },
  {
   "cell_type": "code",
   "execution_count": 52,
   "metadata": {},
   "outputs": [
    {
     "data": {
      "text/plain": [
       "2-element Array{ConstraintRef{Model,MathOptInterface.ConstraintIndex{MathOptInterface.ScalarAffineFunction{Float64},MathOptInterface.LessThan{Float64}},ScalarShape},1}:\n",
       " -0.11130700000000004 x[1] + 1.933075 x[2] - 1.2392 x[3] <= 1.7199999999999989           \n",
       " -0.983092 x[1] - 0.6459000000000001 x[2] + 0.8846999999999999 x[3] <= 0.3200000000000003"
      ]
     },
     "execution_count": 52,
     "metadata": {},
     "output_type": "execute_result"
    }
   ],
   "source": [
    "# Constraints for Camera 4\n",
    "@constraint(model_6, (vhat[:,4].-rho[4]/2).*(dot(c4,x)+d4) .<= A4*x + b4)\n",
    "@constraint(model_6, A4*x + b4 .<= (vhat[:,4].+rho[4]/2).*(dot(c4,x) + d4))"
   ]
  },
  {
   "cell_type": "code",
   "execution_count": 53,
   "metadata": {},
   "outputs": [
    {
     "name": "stdout",
     "output_type": "stream",
     "text": [
      "Starting to optimize Model 6.....\n",
      "Termation Status of the model: OPTIMAL\n"
     ]
    }
   ],
   "source": [
    "println(\"Starting to optimize Model 6.....\")\n",
    "optimize!(model_6)\n",
    "println(\"Termation Status of the model: \", termination_status(model_6))"
   ]
  },
  {
   "cell_type": "code",
   "execution_count": 54,
   "metadata": {},
   "outputs": [
    {
     "name": "stdout",
     "output_type": "stream",
     "text": [
      "Max value of objective function: -0.5735233124623511\n",
      "Value of the variable x: [-0.852930477369706, 0.31616654919206966, -0.5735233124623511]\n",
      "Hence value of u3 is -0.5735233124623511\n"
     ]
    }
   ],
   "source": [
    "println(\"Max value of objective function: \", objective_value(model_6))\n",
    "println(\"Value of the variable x: \", value.(x))\n",
    "println(\"Hence value of u3 is \", value.(x[3]))"
   ]
  }
 ],
 "metadata": {
  "kernelspec": {
   "display_name": "Julia 1.2.0",
   "language": "julia",
   "name": "julia-1.2"
  },
  "language_info": {
   "file_extension": ".jl",
   "mimetype": "application/julia",
   "name": "julia",
   "version": "1.2.0"
  }
 },
 "nbformat": 4,
 "nbformat_minor": 2
}
