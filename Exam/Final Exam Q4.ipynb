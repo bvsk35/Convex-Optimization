{
 "cells": [
  {
   "cell_type": "code",
   "execution_count": 1,
   "metadata": {},
   "outputs": [
    {
     "name": "stdout",
     "output_type": "stream",
     "text": [
      "\u001b[32m\u001b[1m    Status\u001b[22m\u001b[39m `C:\\Users\\BV SAMEER KUMAR\\.julia\\environments\\v1.2\\Project.toml`\n",
      " \u001b[90m [4076af6c]\u001b[39m\u001b[37m JuMP v0.18.6\u001b[39m\n"
     ]
    }
   ],
   "source": [
    "using Pkg\n",
    "Pkg.status(\"JuMP\")"
   ]
  },
  {
   "cell_type": "code",
   "execution_count": 2,
   "metadata": {},
   "outputs": [],
   "source": [
    "using JuMP\n",
    "using Gurobi\n",
    "# Linear Algebra packages\n",
    "using LinearAlgebra\n",
    "using SparseArrays"
   ]
  },
  {
   "cell_type": "code",
   "execution_count": 3,
   "metadata": {},
   "outputs": [
    {
     "name": "stdout",
     "output_type": "stream",
     "text": [
      "Academic license - for non-commercial use only\r\n"
     ]
    },
    {
     "name": "stderr",
     "output_type": "stream",
     "text": [
      "┌ Warning: Gurobi reported infeasible or unbounded. Set InfUnbdInfo=1 for more specific status.\n",
      "└ @ Gurobi C:\\Users\\BV SAMEER KUMAR\\.julia\\packages\\Gurobi\\TX8tY\\src\\MPB_wrapper.jl:438\n",
      "┌ Warning: Not solved to optimality, status: InfeasibleOrUnbounded\n",
      "└ @ JuMP C:\\Users\\BV SAMEER KUMAR\\.julia\\packages\\JuMP\\I7whV\\src\\solvers.jl:212\n",
      "┌ Warning: Variable value not defined for component of x. Check that the model was properly solved.\n",
      "└ @ JuMP C:\\Users\\BV SAMEER KUMAR\\.julia\\packages\\JuMP\\I7whV\\src\\JuMP.jl:480\n",
      "┌ Warning: Gurobi reported infeasible or unbounded. Set InfUnbdInfo=1 for more specific status.\n",
      "└ @ Gurobi C:\\Users\\BV SAMEER KUMAR\\.julia\\packages\\Gurobi\\TX8tY\\src\\MPB_wrapper.jl:438\n",
      "┌ Warning: Not solved to optimality, status: InfeasibleOrUnbounded\n",
      "└ @ JuMP C:\\Users\\BV SAMEER KUMAR\\.julia\\packages\\JuMP\\I7whV\\src\\solvers.jl:212\n",
      "┌ Warning: Variable value not defined for component of x. Check that the model was properly solved.\n",
      "└ @ JuMP C:\\Users\\BV SAMEER KUMAR\\.julia\\packages\\JuMP\\I7whV\\src\\JuMP.jl:480\n",
      "┌ Warning: Gurobi reported infeasible or unbounded. Set InfUnbdInfo=1 for more specific status.\n",
      "└ @ Gurobi C:\\Users\\BV SAMEER KUMAR\\.julia\\packages\\Gurobi\\TX8tY\\src\\MPB_wrapper.jl:438\n",
      "┌ Warning: Not solved to optimality, status: InfeasibleOrUnbounded\n",
      "└ @ JuMP C:\\Users\\BV SAMEER KUMAR\\.julia\\packages\\JuMP\\I7whV\\src\\solvers.jl:212\n",
      "┌ Warning: Variable value not defined for component of x. Check that the model was properly solved.\n",
      "└ @ JuMP C:\\Users\\BV SAMEER KUMAR\\.julia\\packages\\JuMP\\I7whV\\src\\JuMP.jl:480\n",
      "┌ Warning: Gurobi reported infeasible or unbounded. Set InfUnbdInfo=1 for more specific status.\n",
      "└ @ Gurobi C:\\Users\\BV SAMEER KUMAR\\.julia\\packages\\Gurobi\\TX8tY\\src\\MPB_wrapper.jl:438\n",
      "┌ Warning: Not solved to optimality, status: InfeasibleOrUnbounded\n",
      "└ @ JuMP C:\\Users\\BV SAMEER KUMAR\\.julia\\packages\\JuMP\\I7whV\\src\\solvers.jl:212\n",
      "┌ Warning: Variable value not defined for component of x. Check that the model was properly solved.\n",
      "└ @ JuMP C:\\Users\\BV SAMEER KUMAR\\.julia\\packages\\JuMP\\I7whV\\src\\JuMP.jl:480\n",
      "┌ Warning: Gurobi reported infeasible or unbounded. Set InfUnbdInfo=1 for more specific status.\n",
      "└ @ Gurobi C:\\Users\\BV SAMEER KUMAR\\.julia\\packages\\Gurobi\\TX8tY\\src\\MPB_wrapper.jl:438\n",
      "┌ Warning: Not solved to optimality, status: InfeasibleOrUnbounded\n",
      "└ @ JuMP C:\\Users\\BV SAMEER KUMAR\\.julia\\packages\\JuMP\\I7whV\\src\\solvers.jl:212\n",
      "┌ Warning: Variable value not defined for component of x. Check that the model was properly solved.\n",
      "└ @ JuMP C:\\Users\\BV SAMEER KUMAR\\.julia\\packages\\JuMP\\I7whV\\src\\JuMP.jl:480\n",
      "┌ Warning: Not solved to optimality, status: Numeric\n",
      "└ @ JuMP C:\\Users\\BV SAMEER KUMAR\\.julia\\packages\\JuMP\\I7whV\\src\\solvers.jl:212\n",
      "┌ Warning: Variable value not defined for component of x. Check that the model was properly solved.\n",
      "└ @ JuMP C:\\Users\\BV SAMEER KUMAR\\.julia\\packages\\JuMP\\I7whV\\src\\JuMP.jl:480\n",
      "┌ Warning: Not solved to optimality, status: Numeric\n",
      "└ @ JuMP C:\\Users\\BV SAMEER KUMAR\\.julia\\packages\\JuMP\\I7whV\\src\\solvers.jl:212\n",
      "┌ Warning: Variable value not defined for component of x. Check that the model was properly solved.\n",
      "└ @ JuMP C:\\Users\\BV SAMEER KUMAR\\.julia\\packages\\JuMP\\I7whV\\src\\JuMP.jl:480\n"
     ]
    },
    {
     "name": "stdout",
     "output_type": "stream",
     "text": [
      "Optimal Estimate of X: [4.911839825574044, 5.015628432799912, 5.197602450915133]\n"
     ]
    }
   ],
   "source": [
    "function problem_4_model(t, P1, P2, P3, P4, y1, y2, y3, y4, env)\n",
    "\n",
    "    model = Model(solver = GurobiSolver(env, OutputFlag = 0));\n",
    "\n",
    "    @variable(model, x[1:3]);\n",
    "    @variable(model, v1[1:3]);\n",
    "    @variable(model, v2[1:3]);\n",
    "    @variable(model, v3[1:3]);\n",
    "    @variable(model, v4[1:3]);\n",
    "\n",
    "    @constraint(model, v1 .== P1 * [x; 1]);\n",
    "    @constraint(model, v2 .== P2 * [x; 1]);\n",
    "    @constraint(model, v3 .== P3 * [x; 1]);\n",
    "    @constraint(model, v4 .== P4 * [x; 1]);\n",
    "\n",
    "    @constraint(model, norm( v1[1:2] - v1[3] * y1) <= t * v1[3])\n",
    "    @constraint(model, norm( v2[1:2] - v2[3] * y2) <= t * v2[3])\n",
    "    @constraint(model, norm( v3[1:2] - v3[3] * y3) <= t * v3[3])\n",
    "    @constraint(model, norm( v4[1:2] - v4[3] * y4) <= t * v4[3])\n",
    "\n",
    "    @objective(model, Min, t)\n",
    "\n",
    "    return model\n",
    "\n",
    "end\n",
    "\n",
    "gurobi_env = Gurobi.Env();\n",
    "\n",
    "P1 = [1 0 0 0; 0 1 0 0; 0 0 1 0];\n",
    "P2 = [1 0 0 0; 0 0 1 0; 0 -1 0 10];\n",
    "P3 = [1 1 1 -10; -1 1 1 0; -1 -1 1 10];\n",
    "P4 = [0 1 1 0; 0 -1 1 0; -1 0 0 10];\n",
    "\n",
    "y1 = [0.98; 0.93];\n",
    "y2 = [1.01; 1.01];\n",
    "y3 = [0.95; 1.05];\n",
    "y4 = [2.04; 0.00];\n",
    "\n",
    "lower = 0;\n",
    "upper = 1;\n",
    "\n",
    "tol = 1e-5;\n",
    "lastx = 0;\n",
    "while (upper-lower) > tol\n",
    "    t = 0.5 * (lower + upper);\n",
    "    model = problem_4_model(t, P1, P2, P3, P4, y1, y2, y3, y4, gurobi_env)\n",
    "    status = solve(model);\n",
    "\n",
    "    optx = getvalue(model[:x]);\n",
    "    model = nothing\n",
    "\n",
    "    if isnan(optx[1]) || isnan(optx[2]) || isnan(optx[3])\n",
    "        lower = t\n",
    "    else\n",
    "        lastx = optx;\n",
    "        upper = t;\n",
    "    end\n",
    "end\n",
    "println(\"Optimal Estimate of X: \", lastx)"
   ]
  }
 ],
 "metadata": {
  "kernelspec": {
   "display_name": "Julia 1.2.0",
   "language": "julia",
   "name": "julia-1.2"
  },
  "language_info": {
   "file_extension": ".jl",
   "mimetype": "application/julia",
   "name": "julia",
   "version": "1.2.0"
  }
 },
 "nbformat": 4,
 "nbformat_minor": 2
}
